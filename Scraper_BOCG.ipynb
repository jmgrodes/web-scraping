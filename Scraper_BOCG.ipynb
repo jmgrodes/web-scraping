{
 "cells": [
  {
   "cell_type": "markdown",
   "id": "polished-prison",
   "metadata": {},
   "source": [
    "# WEB SCRAPING BOCG"
   ]
  },
  {
   "cell_type": "markdown",
   "id": "widespread-habitat",
   "metadata": {},
   "source": [
    "#### Instalamos la librerias necesarias si no las tenemos instaladas previamente, para ello descomentamos borrando \"#\"."
   ]
  },
  {
   "cell_type": "code",
   "execution_count": 1,
   "id": "tracked-fetish",
   "metadata": {},
   "outputs": [],
   "source": [
    "#install.packages(\"pdftools\")\n",
    "#install.packages(\"tesseract\")\n",
    "#install.packages(\"stringr\")"
   ]
  },
  {
   "cell_type": "markdown",
   "id": "elect-enough",
   "metadata": {},
   "source": [
    "#### Seleccionamos las librerias que vamos a utilizar."
   ]
  },
  {
   "cell_type": "code",
   "execution_count": 3,
   "id": "agricultural-consortium",
   "metadata": {
    "scrolled": true
   },
   "outputs": [],
   "source": [
    "library(pdftools)\n",
    "library(tesseract)\n",
    "library(stringr)"
   ]
  },
  {
   "cell_type": "markdown",
   "id": "elegant-embassy",
   "metadata": {},
   "source": [
    "## Extracción de los BOCG"
   ]
  },
  {
   "cell_type": "markdown",
   "id": "tutorial-distribution",
   "metadata": {},
   "source": [
    "### Criterios de búsqueda"
   ]
  },
  {
   "cell_type": "markdown",
   "id": "independent-preparation",
   "metadata": {},
   "source": [
    "En este punto colocamos los criterios de búsqueda para cada BOCG y actas que contenga."
   ]
  },
  {
   "cell_type": "code",
   "execution_count": 4,
   "id": "becoming-specific",
   "metadata": {},
   "outputs": [],
   "source": [
    "criterio1 <- \"Juan Carlos\"\n",
    "criterio2 <- \"Monarquía\"\n",
    "criterio3 <- \"emérito\""
   ]
  },
  {
   "cell_type": "markdown",
   "id": "fluid-wildlife",
   "metadata": {},
   "source": [
    "Creamos un vector con el **Número de BOGC's en cada legislatura**. En este caso hemos colocado a cero las 13 primeras legislaturas para simplificar la búsqueda y en la legislatura 14 terminamos en el bocg nº 236."
   ]
  },
  {
   "cell_type": "code",
   "execution_count": 5,
   "id": "comparable-batman",
   "metadata": {},
   "outputs": [],
   "source": [
    "n_bocgs <- c(0,0,0,0,0,0,0,0,0,0,0,0,0,236)"
   ]
  },
  {
   "cell_type": "markdown",
   "id": "domestic-audit",
   "metadata": {},
   "source": [
    "Descargamos las páginas de los BOGC para las legislaturas seleccionadas anteriormente, con los criterios de búsqueda."
   ]
  },
  {
   "cell_type": "markdown",
   "id": "common-image",
   "metadata": {},
   "source": [
    "### Inicialización de parámetros"
   ]
  },
  {
   "cell_type": "markdown",
   "id": "ordinary-scale",
   "metadata": {},
   "source": [
    "Ponemos a cero las variables donde vamos a almacenar los resultados."
   ]
  },
  {
   "cell_type": "code",
   "execution_count": 6,
   "id": "sought-chick",
   "metadata": {},
   "outputs": [],
   "source": [
    "bocg <- list() # Lista que almacena los BOCG con los criterios de búsqueda\n",
    "i = 0 # contador"
   ]
  },
  {
   "cell_type": "markdown",
   "id": "wrapped-teaching",
   "metadata": {},
   "source": [
    "### Iteración por los BOGS's de cada legislatura"
   ]
  },
  {
   "cell_type": "markdown",
   "id": "planned-mercy",
   "metadata": {},
   "source": [
    "Recorremos los BOGS's de cada una de las legislaturas y nos quedamos con las páginas de aquellos que contienen alguno de los criterios de búsqueda."
   ]
  },
  {
   "cell_type": "code",
   "execution_count": 7,
   "id": "clean-maximum",
   "metadata": {},
   "outputs": [
    {
     "name": "stdout",
     "output_type": "stream",
     "text": [
      "[1] \"BOGC: Número 235 de 8 de marzo de 2021\"\n"
     ]
    }
   ],
   "source": [
    "# Para cada legislatura y BOGC publicado     \n",
    "for (leg in 14:14){ # A modo de ejemplo solo vamos a recorrer la legislatura 14\n",
    "    for (n_bocg in 234:n_bocgs[leg]){ # Solo descargamos del bocg 234 al último, 236 en este caso.\n",
    "        \n",
    "        # url del Boletín oficial\n",
    "        url_bocg <- paste0(\"https://www.congreso.es/public_oficiales/L\",leg,\"/CONG/BOCG/D/BOCG-\",leg,\"-D-\",n_bocg,\".PDF\")\n",
    "        \n",
    "        # Descargamos el boletín\n",
    "        download.file(url_bocg, \"BOCG.pdf\", mode = \"wb\")\n",
    "        \n",
    "        # Extraemos el author, version, etc\n",
    "        info <- pdf_info(\"BOCG.pdf\")\n",
    "        \n",
    "        # Extraemos el texto del boletín\n",
    "        txt <- pdf_text(\"BOCG.pdf\")\n",
    "        \n",
    "        # Comprobamos si existen páginas en el pdf con los criterios de búsqueda y si hay actas\n",
    "        acta_true <- stringr::str_subset(txt, \"Ver_texto\") # Los pdf con actas contienen el texto \"Ver_texto\"\n",
    "        resul1 <- stringr::str_subset(txt, criterio1)\n",
    "        resul2 <- stringr::str_subset(txt, criterio2)\n",
    "        resul3 <- stringr::str_subset(txt, criterio3)\n",
    "\n",
    "        # Si el pdf contiene actas\n",
    "        if (length(acta_true) > 0){ \n",
    "          # Si existen páginas con los criterios búsqueda las almacenamos en la lista \"bocg\"\n",
    "          if (length(resul1) | length(resul2) | length(resul3) > 0){\n",
    "            i <- i + 1\n",
    "            bocg_info <-info[[\"keys\"]][[\"Subject\"]]\n",
    "            \n",
    "            # Imprimimos la información de los BOGC's que va descargando\n",
    "            print(paste0(\"BOGC: \",bocg_info))\n",
    "\n",
    "            # Almaceno las páginas para cada pdf en la lista \"bocg\"\n",
    "            bocg[[i]] <-list(c(leg, n_bocg, bocg_info, resul1, resul2, resul3))\n",
    "\n",
    "            # Cada elemento de la lista \"bocg\" lo guardamos en un archivo txt\n",
    "            write.table(x = bocg[[i]][[1]], file = paste0(\"./ouput/\",bocg[[i]][[1]][3],\".txt\"))\n",
    "          }\n",
    "        }\n",
    "    }\n",
    "}"
   ]
  },
  {
   "cell_type": "markdown",
   "id": "difficult-coral",
   "metadata": {},
   "source": [
    "A modo de ejemplo, mostramos las páginas que contienen los criterios de búsqueda para uno de los BOCG descargados."
   ]
  },
  {
   "cell_type": "code",
   "execution_count": 8,
   "id": "fancy-capital",
   "metadata": {
    "scrolled": true
   },
   "outputs": [
    {
     "name": "stdout",
     "output_type": "stream",
     "text": [
      "[[1]]\n",
      "[[1]][[1]]\n",
      " [1] \"14\"                                                                                                                                                                                                                                                                                                                                                                                                                                                                                                                                                                                                                                                                                                                                                                                                                                                                                                                                                                                                                                                                                                                                                                                                                                                                                                                                                                                                                                                                                                                                                                                                                                                                                                                                                                                                                                                                                                                                                                                                                                                                                                                                                                                                                                                                                                                                                                                                                                                                                                                                                                                                                                                                                                                                                                                                                                                                                                                                                                                                                                                                                                                                                                                                                                                                                                                                                                                                                                                                                                                                                                                                                                                                                                                                                                                                                                                                                                                                                                                                                                                                                                                                                                                                                                                                                                                                                                                                                                                                                                                                                                                                                                                                                                                                                                                                                                                                                                                                                                                                                                                                                                                                                                                                                                                                                                                                                                                                                                                           \n",
      " [2] \"235\"                                                                                                                                                                                                                                                                                                                                                                                                                                                                                                                                                                                                                                                                                                                                                                                                                                                                                                                                                                                                                                                                                                                                                                                                                                                                                                                                                                                                                                                                                                                                                                                                                                                                                                                                                                                                                                                                                                                                                                                                                                                                                                                                                                                                                                                                                                                                                                                                                                                                                                                                                                                                                                                                                                                                                                                                                                                                                                                                                                                                                                                                                                                                                                                                                                                                                                                                                                                                                                                                                                                                                                                                                                                                                                                                                                                                                                                                                                                                                                                                                                                                                                                                                                                                                                                                                                                                                                                                                                                                                                                                                                                                                                                                                                                                                                                                                                                                                                                                                                                                                                                                                                                                                                                                                                                                                                                                                                                                                                                          \n",
      " [3] \"Número 235 de 8 de marzo de 2021\"                                                                                                                                                                                                                                                                                                                                                                                                                                                                                                                                                                                                                                                                                                                                                                                                                                                                                                                                                                                                                                                                                                                                                                                                                                                                                                                                                                                                                                                                                                                                                                                                                                                                                                                                                                                                                                                                                                                                                                                                                                                                                                                                                                                                                                                                                                                                                                                                                                                                                                                                                                                                                                                                                                                                                                                                                                                                                                                                                                                                                                                                                                                                                                                                                                                                                                                                                                                                                                                                                                                                                                                                                                                                                                                                                                                                                                                                                                                                                                                                                                                                                                                                                                                                                                                                                                                                                                                                                                                                                                                                                                                                                                                                                                                                                                                                                                                                                                                                                                                                                                                                                                                                                                                                                                                                                                                                                                                                                             \n",
      " [4] \"                       BOLETÍN OFICIAL DE LAS CORTES GENERALES\\n                             CONGRESO DE LOS DIPUTADOS\\nSerie D    Núm. 235                                            8 de marzo de 2021                                                                       Pág. 367\\n          184/038315    Autor: Gamarra Ruiz-Clavijo, Concepción\\n                               Echániz Salgado, José Ignacio\\n                               Pastor Julián, Ana María\\n                               Olano Vela, Jaime Eduardo de\\n                               Romero Sánchez, Rosa María\\n                               Borrego Cortés, Isabel María\\n                               Rodríguez Herrer, María Elvira\\n                               Garcés Sanagustín, Mario\\n                               Velasco Morillo, Elvira\\n                               Callejas Cano, Juan Antonio\\n                               Almodóbar Barceló, Agustín\\n                        Previsiones del Gobierno acerca de poner en práctica alguna medida para\\n                        aumentar la diligencia, la eficacia, la eficiencia, la transparencia y la coherencia\\n                        de su gestión en la crisis generada por la pandemia de COVID-19 en nuestro\\n                        país (núm. reg. 94536) ......................................................................................... Ver_texto\\n          184/038316    Autor: Gamarra Ruiz-Clavijo, Concepción\\n                               Echániz Salgado, José Ignacio\\n                               Pastor Julián, Ana María\\n                               Olano Vela, Jaime Eduardo de\\n                               Romero Sánchez, Rosa María\\n                               Borrego Cortés, Isabel María\\n                               Rodríguez Herrer, María Elvira\\n                               Garcés Sanagustín, Mario\\n                               Velasco Morillo, Elvira\\n                               Callejas Cano, Juan Antonio\\n                               Almodóbar Barceló, Agustín\\n                        Motivos por los que en España no se está utilizando de manera sistemática el\\n                        rastreo electrónico con la App «RadarCovid» (núm. reg. 94537) ........................ Ver_texto\\n          184/038317    Autor: Delgado Arce, Celso Luis\\n                               Vázquez Blanco, Ana Belén\\n                        Relación de actuaciones ejecutadas desde el 17/11/2020 en el proyecto Risc\\n                        Miño-Limia liderado por la Confederación Hidrográfica Miño-Sil (núm.\\n                        reg. 94538) ........................................................................................................... Ver_texto\\n          184/038318    Autor: Muñoz Vidal, María\\n                               Martínez Granados, María Carmen\\n                               Gutiérrez Vivas, Miguel Ángel\\n                        Medidas específicas para la reindustrialización de Linares y su comarca (núm.\\n                        reg. 94539) ........................................................................................................... Ver_texto\\n          184/038321    Autor: Nogueras i Camero, Míriam\\n                        Previsiones acerca de dar instrucciones a la Agencia Tributaria para que proceda\\n                        a abrir expediente contra el Rey emérito Su Majestad Don Juan Carlos I (núm.\\n                        reg. 94545) ........................................................................................................... Ver_texto\\n                                                                                                                                                               cve: BOCG-14-D-235\\n\"                                                                                                                                                                                                                                                                                                                                                                                                                                                                                                                                                                                                                                                                                                                                                                                                                                                                                                                                                                                                                                                                                                                                                                                                                                                                                                                                                                                                                                                                                                                         \n",
      " [5] \"                       BOLETÍN OFICIAL DE LAS CORTES GENERALES\\n                             CONGRESO DE LOS DIPUTADOS\\nSerie D    Núm. 235                                            8 de marzo de 2021                                                                       Pág. 402\\n          184/032165    Autor: Gobierno\\n                        Contestación a doña Concepción Gamarra Ruiz-Clavijo (GP), a doña Alicia\\n                        García Rodríguez (GP) y a doña Margarita Prohens Rigo (GP) sobre\\n                        actuaciones y medidas previstas por el Gobierno para los consumidores\\n                        vulnerables en situación de pobreza energética (núm. reg. 90975) .............. Ver_texto\\n                        (La pregunta de referencia fue publicada en el «BOCG. Congreso de los\\n                        Diputados» serie D, núm. 211, de 1 de febrero de 2021.)\\n          184/032169    Autor: Gobierno\\n                        Contestación a don Néstor Rego Candamil (GPlu) sobre retribución del\\n                        personal que asiste a Su Majestad el Rey Don Juan Carlos por Patrimonio\\n                        Nacional (núm. reg. 92809) ................................................................................ Ver_texto\\n                        (La pregunta de referencia fue publicada en el «BOCG. Congreso de los\\n                        Diputados» serie D, núm. 211, de 1 de febrero de 2021.)\\n          184/032170    Autor: Gobierno\\n                        Contestación a don Fernando Adolfo Gutiérrez Díaz de Otazu (GP), a don Carlos\\n                        Rojas García (GP), a don José Antonio Bermúdez de Castro Fernández (GP), a\\n                        don Antonio González Terol (GP), a doña María José García-Pelayo Jurado\\n                        (GP), a don Agustín Almodóbar Barceló (GP), a don César Sánchez Pérez (GP),\\n                        a don Juan Antonio Callejas Cano (GP), a don Pablo Montesinos Aguayo (GP),\\n                        a don Jesús Postigo Quintana (GP), a doña María Pilar Ramallo Vázquez, a\\n                        doña Paloma Gázquez Collado (GP) y a don Jaime Miguel Mateu Istúriz (GP)\\n                        sobre declaraciones públicas realizadas por la Ministra de Defensa con\\n                        ocasión de la Pascua Militar, en las que afirmaba, con carácter general,\\n                        que los militares retirados que expresan públicamente sus puntos de vista\\n                        perjudican la imagen de las Fuerzas Armadas y se encuentran alejados de\\n                        los valores militares (núm. reg. 94593) ............................................................. Ver_texto\\n                        (La pregunta de referencia fue publicada en el «BOCG. Congreso de los\\n                        Diputados» serie D, núm. 211, de 1 de febrero de 2021.)\\n          184/032171    Autor: Gobierno\\n                        Contestación a doña Belén Hoyo Juliá (GP) sobre despliegue de 10.000\\n                        efectivos de la Policía y Guardia Civil para controlar el cierre perimetral de\\n                        la Comunitat Valenciana y el confinamiento de 29 municipios (núm.\\n                        reg. 93079) ........................................................................................................... Ver_texto\\n                        (La pregunta de referencia fue publicada en el «BOCG. Congreso de los\\n                        Diputados» serie D, núm. 211, de 1 de febrero de 2021.)\\n          184/032172    Autor: Gobierno\\n                        Contestación a doña Belén Hoyo Juliá (GP) sobre establecimiento de los\\n                        operativos de control y reparto de las unidades disponibles en el despliegue\\n                        de 10.000 efectivos de la Policía y Guardia Civil para controlar el cierre\\n                        perimetral de la Comunitat Valenciana y el confinamiento de 29 municipios\\n                        (núm. reg. 93080) ................................................................................................ Ver_texto\\n                        (La pregunta de referencia fue publicada en el «BOCG. Congreso de los\\n                        Diputados» serie D, núm. 211, de 1 de febrero de 2021.)\\n          184/032173    Autor: Gobierno\\n                        Contestación a doña Belén Hoyo Juliá (GP) sobre articulación de la\\n                        colaboración entre los diferentes cuerpos policiales en el despliegue\\n                        de 10.000 efectivos de la Policía y Guardia Civil para controlar el cierre\\n                        perimetral de la Comunitat Valenciana y el confinamiento de 29 municipios\\n                                                                                                                                                               cve: BOCG-14-D-235\\n                        (núm. reg. 93081) ................................................................................................ Ver_texto\\n                        (La pregunta de referencia fue publicada en el «BOCG. Congreso de los\\n                        Diputados» serie D, núm. 211, de 1 de febrero de 2021.)\\n\"\n",
      " [6] \"                       BOLETÍN OFICIAL DE LAS CORTES GENERALES\\n                             CONGRESO DE LOS DIPUTADOS\\nSerie D    Núm. 235                                            8 de marzo de 2021                                                                       Pág. 403\\n          184/032174    Autor: Gobierno\\n                        Contestación a doña Belén Hoyo Juliá (GP) sobre número de sanciones\\n                        impuestas en relación con el despliegue de 10.000 efectivos de la Policía\\n                        y Guardia Civil para controlar el cierre perimetral de la Comunitat Valenciana\\n                        y el confinamiento de 29 municipios, así como conceptos de las mismas y\\n                        municipios en los que se han impuesto (núm. reg. 92270) ............................ Ver_texto\\n                        (La pregunta de referencia fue publicada en el «BOCG. Congreso de los\\n                        Diputados» serie D, núm. 211, de 1 de febrero de 2021.)\\n          184/032176    Autor: Gobierno\\n                        Contestación a doña Belén Hoyo Juliá (GP) sobre actuaciones realizadas por\\n                        la Policía autonómica en la Comunitat Valenciana desde el día 07/01/2021\\n                        en relación con las zonas que tienen restricciones de movilidad, así como\\n                        municipios en los que se han realizado (núm. reg. 93082) ............................. Ver_texto\\n                        (La pregunta de referencia fue publicada en el «BOCG. Congreso de los\\n                        Diputados» serie D, núm. 211, de 1 de febrero de 2021.)\\n          184/032177    Autor: Gobierno\\n                        Contestación a doña Belén Hoyo Juliá (GP) sobre acciones de las Fuerzas y\\n                        Cuerpos de Seguridad del Estado que se han coordinado desde la\\n                        Delegación del Gobierno en la Comunitat Valenciana para puestos de\\n                        control y regulación del tráfico en los municipios confinados desde\\n                        el 07/01/2021 en dicha Comunidad (núm. reg. 93083) ..................................... Ver_texto\\n                        (La pregunta de referencia fue publicada en el «BOCG. Congreso de los\\n                        Diputados» serie D, núm. 211, de 1 de febrero de 2021.)\\n          184/032179    Autor: Gobierno\\n                        Contestación a don Íñigo Errejón Galván (GPlu) sobre gastos del Rey emérito\\n                        Su Majestad Don Juan Carlos I y su personal en Abu Dabi a cargo de\\n                        Patrimonio Nacional (núm. reg. 92810) ............................................................. Ver_texto\\n                        (La pregunta de referencia fue publicada en el «BOCG. Congreso de los\\n                        Diputados» serie D, núm. 211, de 1 de febrero de 2021.)\\n          184/032180    Autor: Gobierno\\n                        Contestación a don Francisco José Contreras Peláez (GVOX), a don José María\\n                        Sánchez García (GVOX), a doña María Teresa López Álvarez (GVOX), a don\\n                        Carlos José Zambrano García-Raez (GVOX) y a don Ignacio Gil Lázaro (GVOX)\\n                        sobre criterios seguidos para subvencionar las actividades de las\\n                        Fundaciones Largo Caballero, Andreu Nin y Baltasar Garzón (núm.\\n                        reg. 91577) ........................................................................................................... Ver_texto\\n                        (La pregunta de referencia fue publicada en el «BOCG. Congreso de los\\n                        Diputados» serie D, núm. 211, de 1 de febrero de 2021.)\\n          184/032183    Autor: Gobierno\\n                        Contestación a don Rafael Fernández-Lomana Gutiérrez (GVOX), a don José\\n                        Ramírez del Río (GVOX), a don Pedro Jesús Requejo Novoa (GVOX), a doña\\n                        Mireia Borrás Pabón (GVOX) y a don Francisco José Contreras Peláez (GVOX)\\n                        sobre trabajo conjunto del Consejo Superior de Deportes con el Ministerio\\n                        de Consumo para la elaboración de la Ley del Juego, así como incidencia\\n                        en el sector deportivo (núm. reg. 92044) .......................................................... Ver_texto\\n                        (La pregunta de referencia fue publicada en el «BOCG. Congreso de los\\n                        Diputados» serie D, núm. 211, de 1 de febrero de 2021.)\\n          184/032186    Autor: Gobierno\\n                                                                                                                                                               cve: BOCG-14-D-235\\n                        Contestación a don José Ramírez del Río (GVOX), a don Francisco José\\n                        Contreras Peláez (GVOX), a don Pedro Jesús Requejo Novoa (GVOX), a doña\\n                        Mireia Borrás Pabón (GVOX) y a don Rafael Fernández-Lomana Gutiérrez\\n                        (GVOX) sobre medidas adoptadas para resolver las incidencias en el\\n\"                                                      \n",
      " [7] \"                       BOLETÍN OFICIAL DE LAS CORTES GENERALES\\n                             CONGRESO DE LOS DIPUTADOS\\nSerie D    Núm. 235                                            8 de marzo de 2021                                                                       Pág. 420\\n          184/032368    Autor: Gobierno\\n                        Contestación a doña Josune Gorospe Elezcano (GV-EAJ-PNV) sobre\\n                        cronograma previsto de la campaña de publicidad institucional dirigida a\\n                        la sensibilización y recomendación de la vacunación frente a la COVID-19\\n                        (núm. reg. 92884) ................................................................................................ Ver_texto\\n                        (La pregunta de referencia fue publicada en el «BOCG. Congreso de los\\n                        Diputados» serie D, núm. 211, de 1 de febrero de 2021.)\\n          184/032371    Autor: Gobierno\\n                        Contestación a doña Idoia Sagastizabal Unzetabarrenetxea (GV-EAJ-PNV)\\n                        sobre previsiones acerca de adoptar nuevas medidas de apoyo a la\\n                        solvencia empresarial, así como valoración de la necesidad de poner en\\n                        marcha nuevos instrumentos de apoyo a la solvencia de las empresas de\\n                        menor dimensión (núm. reg. 92227) ................................................................. Ver_texto\\n                        (La pregunta de referencia fue publicada en el «BOCG. Congreso de los\\n                        Diputados» serie D, núm. 211, de 1 de febrero de 2021.)\\n          184/032379    Autor: Gobierno\\n                        Contestación a don Gabriel Rufián Romero (GR) sobre conocimiento de la\\n                        Vicepresidencia Primera del Gobierno de la existencia de personal pagado\\n                        por el erario público dedicado a la asistencia del Rey emérito en su estancia\\n                        fuera del Estado (núm. reg. 92811) .................................................................... Ver_texto\\n                        (La pregunta de referencia fue publicada en el «BOCG. Congreso de los\\n                        Diputados» serie D, núm. 211, de 1 de febrero de 2021.)\\n          184/032381    Autor: Gobierno\\n                        Contestación a doña María Muñoz Vidal (GCs) sobre problemas en el\\n                        aeropuerto Adolfo Suárez-Madrid Barajas con motivo de la nevada\\n                        Filomena (núm. reg. 92228) ................................................................................ Ver_texto\\n                        (La pregunta de referencia fue publicada en el «BOCG. Congreso de los\\n                        Diputados» serie D, núm. 211, de 1 de febrero de 2021.)\\n          184/032382    Autor: Gobierno\\n                        Contestación a don Joan Baldoví Roda (GPlu) sobre coste para las arcas\\n                        públicas de la asistencia del Rey emérito en Emiratos Árabes Unidos (núm.\\n                        reg. 92812) ........................................................................................................... Ver_texto\\n                        (La pregunta de referencia fue publicada en el «BOCG. Congreso de los\\n                        Diputados» serie D, núm. 211, de 1 de febrero de 2021.)\\n          184/032383    Autor: Gobierno\\n                        Contestación a don Jon Iñarritu García (GEH Bildu) sobre motivo por el que el\\n                        Gobierno mantiene personal con asignación de Patrimonio Nacional\\n                        destinado a servir al Rey emérito Su Majestad Don Juan Carlos I, así como\\n                        previsiones acerca de retirar a dicho personal (núm. reg. 92813) ................. Ver_texto\\n                        (La pregunta de referencia fue publicada en el «BOCG. Congreso de los\\n                        Diputados» serie D, núm. 211, de 1 de febrero de 2021.)\\n          184/032384    Autor: Gobierno\\n                        Contestación a don Jon Iñarritu García (GEH Bildu) sobre número de personas\\n                        con salario público que trabajan para el Rey emérito Su Majestad Don Juan\\n                        Carlos I en su estancia en el exterior, así como número de las que han\\n                        estado destinadas en el exterior desde su salida de España (núm.\\n                        reg. 92814) ........................................................................................................... Ver_texto\\n                        (La pregunta de referencia fue publicada en el «BOCG. Congreso de los\\n                                                                                                                                                               cve: BOCG-14-D-235\\n                        Diputados» serie D, núm. 211, de 1 de febrero de 2021.)\\n          184/032385    Autor: Gobierno\\n                        Contestación a don Jon Iñarritu García (GEH Bildu) sobre veracidad de la\\n                        información publicada en El Diario, según la cual Patrimonio Nacional\\n\"                          \n",
      " [8] \"                       BOLETÍN OFICIAL DE LAS CORTES GENERALES\\n                             CONGRESO DE LOS DIPUTADOS\\nSerie D    Núm. 235                                            8 de marzo de 2021                                                                       Pág. 421\\n                        pagaría los sueldos y viajes del personal desplazado a Emiratos Árabes\\n                        Unidos para asistir al Rey emérito Su Majestad Don Juan Carlos I, así como\\n                        salarios, viajes pagados y coste mensual (núm. reg. 92815) ......................... Ver_texto\\n                        (La pregunta de referencia fue publicada en el «BOCG. Congreso de los\\n                        Diputados» serie D, núm. 211, de 1 de febrero de 2021.)\\n          184/032394    Autor: Gobierno\\n                        Contestación a doña Concepción Gamarra Ruiz-Clavijo (GP), a don Mario\\n                        Garcés Sanagustín (GP) y a don Andrés Lorite Lorite (GP) sobre revisión\\n                        realizada del Plan de Actuaciones Invernales frente a contingencias de\\n                        hielo y nieve, conocido como Plan Invierno, de AENA, para hacer frente a\\n                        las particularidades de la borrasca Filomena (núm. reg. 92229) ................... Ver_texto\\n                        (La pregunta de referencia fue publicada en el «BOCG. Congreso de los\\n                        Diputados» serie D, núm. 211, de 1 de febrero de 2021.)\\n          184/032395    Autor: Gobierno\\n                        Contestación a doña Concepción Gamarra Ruiz-Clavijo (GP), a don Mario\\n                        Garcés Sanagustín (GP) y a don Andrés Lorite Lorite (GP) sobre medidas\\n                        preventivas que se pusieron en marcha en el aeropuerto Adolfo Suárez-\\n                        Madrid Barajas a las que se refirió el Ministro de Transportes, Movilidad y\\n                        Agenda Urbana el 14/01/2021 relacionadas con la borrasca Filomena (núm.\\n                        reg. 92230) ........................................................................................................... Ver_texto\\n                        (La pregunta de referencia fue publicada en el «BOCG. Congreso de los\\n                        Diputados» serie D, núm. 211, de 1 de febrero de 2021.)\\n          184/032398    Autor: Gobierno\\n                        Contestación a doña Concepción Gamarra Ruiz-Clavijo (GP), a don Mario\\n                        Garcés Sanagustín (GP) y a don Andrés Lorite Lorite (GP) sobre sucesos\\n                        acaecidos en el aeropuerto Adolfo Suárez-Madrid Barajas durante la\\n                        borrasca Filomena (núm. reg. 92231) ............................................................... Ver_texto\\n                        (La pregunta de referencia fue publicada en el «BOCG. Congreso de los\\n                        Diputados» serie D, núm. 211, de 1 de febrero de 2021.)\\n          184/032403    Autor: Gobierno\\n                        Contestación a doña Paloma Gázquez Collado (GP), a don Guillermo Mariscal\\n                        Anaya (GP) y a doña Tristana María Moraleja Gómez (GP) sobre declaraciones\\n                        de la Ministra Ribera sobre el precio de la luz (núm. reg. 92969) .................. Ver_texto\\n                        (La pregunta de referencia fue publicada en el «BOCG. Congreso de los\\n                        Diputados» serie D, núm. 211, de 1 de febrero de 2021.)\\n          184/032417    Autor: Gobierno\\n                        Contestación a don José Antonio Bermúdez de Castro Fernández (GP) y a doña\\n                        María Jesús Moro Almaraz (GP) sobre actuaciones realizadas por los\\n                        militares pertenecientes al Regimiento de Especialidades de Ingenieros\\n                        número 11, con sede en Salamanca, con ocasión del temporal de nieve\\n                        Filomena, así como medios materiales con los que han contado (núm.\\n                        reg. 90907) ........................................................................................................... Ver_texto\\n                        (La pregunta de referencia fue publicada en el «BOCG. Congreso de los\\n                        Diputados» serie D, núm. 211, de 1 de febrero de 2021.)\\n          184/032424    Autor: Gobierno\\n                        Contestación a doña Concep Cañadell Salvia (GPlu) sobre conversión de la\\n                        actual carretera N-230 en autovía hasta Benavarri, en lugar del municipio\\n                        de Sopeira, como estaba previsto en el estudio informativo, una vez\\n                                                                                                                                                               cve: BOCG-14-D-235\\n                        realizado el estudio de impacto ambiental (núm. reg. 90908) ........................ Ver_texto\\n                        (La pregunta de referencia fue publicada en el «BOCG. Congreso de los\\n                        Diputados» serie D, núm. 211, de 1 de febrero de 2021.)\\n\"                                                                        \n",
      " [9] \"                       BOLETÍN OFICIAL DE LAS CORTES GENERALES\\n                             CONGRESO DE LOS DIPUTADOS\\nSerie D    Núm. 235                                            8 de marzo de 2021                                                                       Pág. 471\\n          184/032960    Autor: Gobierno\\n                        Contestación a don Joseba Andoni Agirretxea Urresti (GV-EAJ-PNV) sobre\\n                        modificación de la normativa en las escuelas militares, coincidiendo con la\\n                        publicación de pruebas que reflejan focos de carácter totalitario en algunas\\n                        unidades de las Fuerzas Armadas (núm. reg. 92768) ...................................... Ver_texto\\n                        (La pregunta de referencia fue publicada en el «BOCG. Congreso de los\\n                        Diputados» serie D, núm. 211, de 1 de febrero de 2021.)\\n          184/032961    Autor: Gobierno\\n                        Contestación a don Joseba Andoni Agirretxea Urresti (GV-EAJ-PNV) sobre\\n                        opinión del Gobierno acerca de si es conveniente el control de ideologías\\n                        totalitarias sobre los cargos que ya formaban parte de las Fuerzas Armadas\\n                        o que promocionen para ascender dentro de ellas (núm. reg. 92769) .......... Ver_texto\\n                        (La pregunta de referencia fue publicada en el «BOCG. Congreso de los\\n                        Diputados» serie D, núm. 211, de 1 de febrero de 2021.)\\n          184/032962    Autor: Gobierno\\n                        Contestación a don Joseba Andoni Agirretxea Urresti (GV-EAJ-PNV) sobre\\n                        opinión del Gobierno acerca de si sería conveniente adicionar criterios\\n                        para medir la idoneidad de los ciudadanos que quieren acceder a las\\n                        Fuerzas Armadas (núm. reg. 92770) .................................................................. Ver_texto\\n                        (La pregunta de referencia fue publicada en el «BOCG. Congreso de los\\n                        Diputados» serie D, núm. 211, de 1 de febrero de 2021.)\\n          184/032963    Autor: Gobierno\\n                        Contestación a don Joseba Andoni Agirretxea Urresti (GV-EAJ-PNV) sobre\\n                        modificación de la normativa de las escuelas militares por la publicación\\n                        de noticias sobre focos totalitarios en las Fuerzas Armadas (núm.\\n                        reg. 92771) ........................................................................................................... Ver_texto\\n                        (La pregunta de referencia fue publicada en el «BOCG. Congreso de los\\n                        Diputados» serie D, núm. 211, de 1 de febrero de 2021.)\\n          184/032964    Autor: Gobierno\\n                        Contestación a don Joseba Andoni Agirretxea Urresti (GV-EAJ-PNV) sobre\\n                        medidas previstas para eliminar simbología y terminología heredada de la\\n                        sublevación militar de 1936 y de ideología totalitaria (núm. reg. 92772) ...... Ver_texto\\n                        (La pregunta de referencia fue publicada en el «BOCG. Congreso de los\\n                        Diputados» serie D, núm. 211, de 1 de febrero de 2021.)\\n          184/032966    Autor: Gobierno\\n                        Contestación a don José Ignacio Echániz Salgado (GP) y a don Andrés Lorite\\n                        Lorite (GP) sobre previsiones de atender la solicitud de la Comunidad de\\n                        Madrid y suspender los vuelos provenientes de Sudáfrica y Brasil ante la\\n                        «altísima capacidad de contagio» de las nuevas variantes de COVID-19\\n                        (núm. reg. 93112) ................................................................................................. Ver_texto\\n                        (La pregunta de referencia fue publicada en el «BOCG. Congreso de los\\n                        Diputados» serie D, núm. 211, de 1 de febrero de 2021.)\\n          184/032967    Autor: Gobierno\\n                        Contestación a don Genís Boadella Esteve (GPlu) sobre gastos de personal,\\n                        salarios, asistencias y viajes con cargo al erario que considera el Gobierno\\n                        que debe mantener el Rey emérito Su Majestad Don Juan Carlos I (núm.\\n                        reg. 92816) ........................................................................................................... Ver_texto\\n                        (La pregunta de referencia fue publicada en el «BOCG. Congreso de los\\n                                                                                                                                                               cve: BOCG-14-D-235\\n                        Diputados» serie D, núm. 211, de 1 de febrero de 2021.)\\n          184/032968    Autor: Gobierno\\n                        Contestación a don Genís Boadella Esteve (GPlu) sobre detalle de importes y\\n                        conceptos que se han asumido con cargo al erario en relación con el Rey\\n\"                                 \n",
      "[10] \"                       BOLETÍN OFICIAL DE LAS CORTES GENERALES\\n                             CONGRESO DE LOS DIPUTADOS\\nSerie D    Núm. 235                                            8 de marzo de 2021                                                                       Pág. 472\\n                        emérito Su Majestad Don Juan Carlos I desde su cambio de residencia\\n                        (núm. reg. 92817) ................................................................................................ Ver_texto\\n                        (La pregunta de referencia fue publicada en el «BOCG. Congreso de los\\n                        Diputados» serie D, núm. 211, de 1 de febrero de 2021.)\\n          184/032971    Autor: Gobierno\\n                        Contestación a doña Elvira Velasco Morillo (GP) sobre vinculación del rechazo\\n                        a los proyectos localistas con situaciones excepcionales de algunos\\n                        territorios como la provincia de Zamora que requieren una atención\\n                        diferenciada de los fondos de la Unión Europea (núm. reg. 90925) .............. Ver_texto\\n                        (La pregunta de referencia fue publicada en el «BOCG. Congreso de los\\n                        Diputados» serie D, núm. 211, de 1 de febrero de 2021.)\\n          184/032973    Autor: Gobierno\\n                        Contestación a doña Elvira Velasco Morillo (GP) sobre medidas previstas\\n                        para combatir y evitar las agresiones al personal sanitario en la provincia\\n                        de Zamora (núm. reg. 92130) ............................................................................. Ver_texto\\n                        (La pregunta de referencia fue publicada en el «BOCG. Congreso de los\\n                        Diputados» serie D, núm. 211, de 1 de febrero de 2021.)\\n          184/032974    Autor: Gobierno\\n                        Contestación a doña Elvira Velasco Morillo (GP) sobre plazos para la\\n                        terminación de los proyectos técnicos del tramo de autovía entre Portugal\\n                        y Alcañides (Zamora), así como previsiones para la adjudicación en el\\n                        año 2020 de algún tramo de dicha autovía (núm. reg. 93094) ........................ Ver_texto\\n                        (La pregunta de referencia fue publicada en el «BOCG. Congreso de los\\n                        Diputados» serie D, núm. 211, de 1 de febrero de 2021.)\\n          184/032975    Autor: Gobierno\\n                        Contestación a doña Elvira Velasco Morillo (GP) sobre ejecución de la mejora\\n                        de la carretera N-631 en la provincia de Zamora (núm. reg. 93095) ............... Ver_texto\\n                        (La pregunta de referencia fue publicada en el «BOCG. Congreso de los\\n                        Diputados» serie D, núm. 211, de 1 de febrero de 2021.)\\n          184/032979    Autor: Gobierno\\n                        Contestación a doña Elvira Velasco Morillo (GP) sobre fase y departamento\\n                        en el que se encuentra el estudio sobre el destino del viejo recinto\\n                        penitenciario ubicado en Zamora capital y plazos e inversión previstos\\n                        para su futuro uso público (núm. reg. 92073) .................................................. Ver_texto\\n                        (La pregunta de referencia fue publicada en el «BOCG. Congreso de los\\n                        Diputados» serie D, núm. 211, de 1 de febrero de 2021.)\\n          184/032981    Autor: Gobierno\\n                        Contestación a doña Elvira Velasco Morillo (GP) sobre proyectos que tiene\\n                        previsto el Gobierno someter a los fondos europeos de reconstrucción en\\n                        colaboración o conjuntamente con Portugal en la provincia de Zamora en\\n                        el marco de una estrategia de lucha contra la despoblación (núm.\\n                        reg. 90926) ........................................................................................................... Ver_texto\\n                        (La pregunta de referencia fue publicada en el «BOCG. Congreso de los\\n                        Diputados» serie D, núm. 211, de 1 de febrero de 2021.)\\n          184/032983    Autor: Gobierno\\n                        Contestación a doña Elvira Velasco Morillo (GP) sobre evaluación sobre el\\n                        estado de la autovía A-52 en la provincia de Zamora, así como previsiones\\n                                                                                                                                                               cve: BOCG-14-D-235\\n                        de inversión para mejorar la calidad de dicha autovía (núm. reg. 93096) ...... Ver_texto\\n                        (La pregunta de referencia fue publicada en el «BOCG. Congreso de los\\n                        Diputados» serie D, núm. 211, de 1 de febrero de 2021.)\\n\"                                                                                                                                                                                                                 \n",
      "[11] \"                       BOLETÍN OFICIAL DE LAS CORTES GENERALES\\n                             CONGRESO DE LOS DIPUTADOS\\nSerie D    Núm. 235                                            8 de marzo de 2021                                                                       Pág. 534\\n          184/033428    Autor: Gobierno\\n                        Contestación a doña Míriam Nogueras i Camero (GPlu) sobre número de\\n                        personas que el Gobierno, u organismos bajo su tutela, ha puesto a\\n                        disposición de Su Majestad el Rey Don Juan Carlos para su estancia en\\n                        Abu Dhabi (núm. reg. 92818) ............................................................................. Ver_texto\\n                        (La pregunta de referencia fue publicada en el «BOCG. Congreso de los\\n                        Diputados» serie D, núm. 211, de 1 de febrero de 2021.)\\n          184/033429    Autor: Gobierno\\n                        Contestación a doña Míriam Nogueras i Camero (GPlu) sobre motivo por el\\n                        que se financia con dinero público la estancia en Abu Dhabi de Su Majestad\\n                        el Rey Don Juan Carlos, que no ocupa cargo alguno y que está siendo\\n                        investigado por una serie de delitos (núm. reg. 92819) .................................. Ver_texto\\n                        (La pregunta de referencia fue publicada en el «BOCG. Congreso de los\\n                        Diputados» serie D, núm. 211, de 1 de febrero de 2021.)\\n          184/033430    Autor: Gobierno\\n                        Contestación a doña Míriam Nogueras i Camero (GPlu) sobre coste de la\\n                        estancia de Su Majestad el Rey Don Juan Carlos en Abu Dhabi desde su\\n                        marcha el mes de agosto de 2020 (núm. reg. 92820) ...................................... Ver_texto\\n                        (La pregunta de referencia fue publicada en el «BOCG. Congreso de los\\n                        Diputados» serie D, núm. 211, de 1 de febrero de 2021.)\\n          184/033431    Autor: Gobierno\\n                        Contestación a doña Míriam Nogueras i Camero (GPlu) sobre personas que\\n                        forman parte del dispositivo de seguridad del Rey emérito en Abu Dhabi\\n                        (núm. reg. 92821) ................................................................................................ Ver_texto\\n                        (La pregunta de referencia fue publicada en el «BOCG. Congreso de los\\n                        Diputados» serie D, núm. 211, de 1 de febrero de 2021.)\\n          184/033432    Autor: Gobierno\\n                        Contestación a doña Míriam Nogueras i Camero (GPlu) sobre opinión del\\n                        Gobierno acerca de si el Ministro del Interior, condenado hasta en siete\\n                        ocasiones por no investigar torturas, puede ser parte de un Gobierno\\n                        democrático (núm. reg. 92110) .......................................................................... Ver_texto\\n                        (La pregunta de referencia fue publicada en el «BOCG. Congreso de los\\n                        Diputados» serie D, núm. 211, de 1 de febrero de 2021.)\\n          184/033433    Autor: Gobierno\\n                        Contestación a doña Míriam Nogueras i Camero (GPlu) sobre mantenimiento\\n                        por el Presidente del Gobierno de su confianza en Grande-Marlaska,\\n                        incluso después de saber que su Ministro del Interior ha violado la\\n                        Convención Europea de Derechos Humanos (núm. reg. 92111) .................... Ver_texto\\n                        (La pregunta de referencia fue publicada en el «BOCG. Congreso de los\\n                        Diputados» serie D, núm. 211, de 1 de febrero de 2021.)\\n          184/033434    Autor: Gobierno\\n                        Contestación a doña Míriam Nogueras i Camero (GPlu) sobre opinión del\\n                        Gobierno acerca de la condena del Tribunal Europeo de Derechos Humanos\\n                        al Estado español por no haber investigado denuncias de torturas (núm.\\n                        reg. 92112) ........................................................................................................... Ver_texto\\n                        (La pregunta de referencia fue publicada en el «BOCG. Congreso de los\\n                        Diputados» serie D, núm. 211, de 1 de febrero de 2021.)\\n                                                                                                                                                               cve: BOCG-14-D-235\\n          184/033435    Autor: Gobierno\\n                        Contestación a doña Míriam Nogueras i Camero (GPlu) sobre medidas\\n                        previstas para que no se vuelvan a repetir las prácticas por las que el\\n\"                                                                                                                                                                                                                                                                                         \n",
      "[12] \"                       BOLETÍN OFICIAL DE LAS CORTES GENERALES\\n                             CONGRESO DE LOS DIPUTADOS\\nSerie D    Núm. 235                                            8 de marzo de 2021                                                                       Pág. 562\\n          179/002447    Autor: Carazo Hermoso, Eduardo\\n                               Montesinos de Miguel, Macarena\\n                               Cabezón Casas, Tomás\\n                               Moraleja Gómez, Tristana María\\n                               Riolobos Regadera, Carmen\\n                               Lorite Lorite, Andrés\\n                               Alonso Pérez, José Ángel\\n                        Atención informativa prestada por RTVE a la noticia de que el PP ha interpuesto\\n                        un recurso de amparo en el Tribunal Constitucional por la negativa de la Presidenta\\n                        del Congreso a abordar de forma urgente la ocultación del informe del Consejo\\n                        de Estado sobre el Decreto de los fondos europeos (núm. reg. 91235) ............... Ver_texto\\n          179/002448    Autor: Carazo Hermoso, Eduardo\\n                               Montesinos de Miguel, Macarena\\n                               Cabezón Casas, Tomás\\n                               Moraleja Gómez, Tristana María\\n                               Riolobos Regadera, Carmen\\n                               Lorite Lorite, Andrés\\n                               Alonso Pérez, José Ángel\\n                        Atención informativa prestada por los telediarios de TVE y programas de info-\\n                        entretenimiento desde el 15 de enero al 5 de febrero de 2021 al juicio de la\\n                        Audiencia Provincial de Madrid contra la expresidenta de la Comunidad de\\n                        Madrid, Cristina Cifuentes (núm. reg. 91236) ...................................................... Ver_texto\\n          179/002449    Autor: Carazo Hermoso, Eduardo\\n                               Montesinos de Miguel, Macarena\\n                               Cabezón Casas, Tomás\\n                               Moraleja Gómez, Tristana María\\n                               Riolobos Regadera, Carmen\\n                               Lorite Lorite, Andrés\\n                               Alonso Pérez, José Ángel\\n                        Atención informativa prestada por RTVE a la noticia de que el Juzgado de lo\\n                        Contencioso-administrativo número 28 de Madrid ha ordenado al Ayuntamiento\\n                        madrileño que en el plazo de diez días lleve a efecto la sentencia que obligaba\\n                        a desvelar el patrimonio financiero de la exalcaldesa Manuela Carmena (núm.\\n                        reg. 91237) ........................................................................................................... Ver_texto\\n          179/002450    Autor: Carazo Hermoso, Eduardo\\n                               Montesinos de Miguel, Macarena\\n                               Cabezón Casas, Tomás\\n                               Moraleja Gómez, Tristana María\\n                               Riolobos Regadera, Carmen\\n                               Lorite Lorite, Andrés\\n                               Alonso Pérez, José Ángel\\n                        Opinión acerca de si la crónica de la estancia del Presidente del Gobierno en\\n                        Lanzarote fue incompleta al excluir la dimensión de la polémica por el eventual\\n                        uso privado de la Residencia La Mareta (núm. reg. 91238) ................................ Ver_texto\\n          179/002451    Autor: Carazo Hermoso, Eduardo\\n                               Montesinos de Miguel, Macarena\\n                               Cabezón Casas, Tomás\\n                               Moraleja Gómez, Tristana María\\n                               Riolobos Regadera, Carmen\\n                                                                                                                                                               cve: BOCG-14-D-235\\n                               Lorite Lorite, Andrés\\n                               Alonso Pérez, José Ángel\\n                        Atención informativa prestada por RTVE a la noticia de que el juez que investiga\\n                        las cuentas de Podemos cree que su dirigente Juan Carlos Monedero elaboró\\n\"                                                                                                                                                                                                                                                                                                                                                                                                                                                                                                                                                                                                                                                                                                                                                                                                                      \n",
      "[13] \"                       BOLETÍN OFICIAL DE LAS CORTES GENERALES\\n                             CONGRESO DE LOS DIPUTADOS\\nSerie D    Núm. 235                                            8 de marzo de 2021                                                                       Pág. 563\\n                        una factura falsa para justificar el cobro de una comisión procedente de la\\n                        consultora Neurona (núm. reg. 91239) ................................................................ Ver_texto\\n          179/002452    Autor: Carazo Hermoso, Eduardo\\n                               Montesinos de Miguel, Macarena\\n                               Cabezón Casas, Tomás\\n                               Moraleja Gómez, Tristana María\\n                               Riolobos Regadera, Carmen\\n                               Lorite Lorite, Andrés\\n                               Alonso Pérez, José Ángel\\n                        Atención informativa prestada por RTVE a la noticia de que el Estado cuenta en\\n                        la actualidad con 736 altos cargos en activo (núm. reg. 91240) .......................... Ver_texto\\n          179/002453    Autor: Carazo Hermoso, Eduardo\\n                               Montesinos de Miguel, Macarena\\n                               Cabezón Casas, Tomás\\n                               Moraleja Gómez, Tristana María\\n                               Riolobos Regadera, Carmen\\n                               Lorite Lorite, Andrés\\n                               Alonso Pérez, José Ángel\\n                        Atención informativa prestada por RTVE a la noticia de que Jaén Merece Más,\\n                        el colectivo ciudadano que agrupa a más de cien instituciones sociales,\\n                        empresariales y culturales de la provincia, ha pedido que Carmen Calvo,\\n                        Vicepresidente Primera del Gobierno, sea declarada persona «non grata» (núm.\\n                        reg. 91241) ........................................................................................................... Ver_texto\\n          179/002454    Autor: Carazo Hermoso, Eduardo\\n                               Montesinos de Miguel, Macarena\\n                               Cabezón Casas, Tomás\\n                               Moraleja Gómez, Tristana María\\n                               Riolobos Regadera, Carmen\\n                               Lorite Lorite, Andrés\\n                               Alonso Pérez, José Ángel\\n                        Atención informativa prestada en los telediarios de TVE y programas de info-\\n                        entretenimiento el 15 de febrero de 2021 a la noticia de la absolución de la\\n                        expresidenta de la Comunidad de Madrid, Cristina Cifuentes, por el caso Master\\n                        (núm. reg. 91242) ................................................................................................ Ver_texto\\n          179/002455    Autor: Carazo Hermoso, Eduardo\\n                               Montesinos de Miguel, Macarena\\n                               Cabezón Casas, Tomás\\n                               Moraleja Gómez, Tristana María\\n                               Riolobos Regadera, Carmen\\n                               Lorite Lorite, Andrés\\n                               Alonso Pérez, José Ángel\\n                        Atención prestada en los programas de info-entretenimiento de TVE a la\\n                        información sobre si el fundador de la formación Juan Carlos Monedero elaboró\\n                        una factura falsa para justificar el cobro de una comisión por contratar a la\\n                        consultora chavista Neurona para tareas electorales, así como si se ha\\n                        considerado dedicar algún programa de TVE «Informe Semanal» (núm.\\n                        reg. 91243) ........................................................................................................... Ver_texto\\n                                                                                                                                                               cve: BOCG-14-D-235\\n\"                                                                                                                                                                                                                                                                                                                                                                                                                                                                                                                                                                                                                                                                                                                                                                                                                                                                                                                                                                                                                                                                                       \n",
      "[14] \"                       BOLETÍN OFICIAL DE LAS CORTES GENERALES\\n                             CONGRESO DE LOS DIPUTADOS\\nSerie D    Núm. 235                                            8 de marzo de 2021                                                                       Pág. 564\\n          179/002456    Autor: Carazo Hermoso, Eduardo\\n                               Montesinos de Miguel, Macarena\\n                               Cabezón Casas, Tomás\\n                               Moraleja Gómez, Tristana María\\n                               Riolobos Regadera, Carmen\\n                               Lorite Lorite, Andrés\\n                               Alonso Pérez, José Ángel\\n                        Última ocasión en la historia de la cadena pública en la que TVE1 obtiene un\\n                        dato de audiencia del 6,4 % como ha sucedido el 14 de febrero de 2021 (núm.\\n                        reg. 91244) ........................................................................................................... Ver_texto\\n          179/002457    Autor: Carazo Hermoso, Eduardo\\n                               Montesinos de Miguel, Macarena\\n                               Cabezón Casas, Tomás\\n                               Moraleja Gómez, Tristana María\\n                               Riolobos Regadera, Carmen\\n                               Lorite Lorite, Andrés\\n                               Alonso Pérez, José Ángel\\n                        Confirmación de si han coincidido para cubrir la misma noticia equipos de cuatro\\n                        programas diferentes de RTVE (núm. reg. 91245) .............................................. Ver_texto\\n          179/002458    Autor: Carazo Hermoso, Eduardo\\n                               Montesinos de Miguel, Macarena\\n                               Cabezón Casas, Tomás\\n                               Moraleja Gómez, Tristana María\\n                               Riolobos Regadera, Carmen\\n                               Lorite Lorite, Andrés\\n                               Alonso Pérez, José Ángel\\n                        Ejecución del proyecto en el que RTVE adjudicó a Telefónica el diseño de la\\n                        nueva «RTVE a la carta» (núm. reg. 91246) ....................................................... Ver_texto\\n          179/002459    Autor: Carazo Hermoso, Eduardo\\n                               Montesinos de Miguel, Macarena\\n                               Cabezón Casas, Tomás\\n                               Moraleja Gómez, Tristana María\\n                               Riolobos Regadera, Carmen\\n                               Lorite Lorite, Andrés\\n                               Alonso Pérez, José Ángel\\n                        Eco en los medios y canales de RTVE de la falsa noticia de un empeoramiento\\n                        de la salud del Rey emérito Juan Carlos I el 15 de febrero de 2021 (núm.\\n                        reg. 91247) ........................................................................................................... Ver_texto\\n          179/002460    Autor: Carazo Hermoso, Eduardo\\n                               Montesinos de Miguel, Macarena\\n                               Cabezón Casas, Tomás\\n                               Moraleja Gómez, Tristana María\\n                               Riolobos Regadera, Carmen\\n                               Lorite Lorite, Andrés\\n                               Alonso Pérez, José Ángel\\n                        Coste, objetivo y ubicación de la cuarta temporada de la serie «Estoy vivo»\\n                        en TVE (núm. reg. 91248) ................................................................................... Ver_texto\\n                                                                                                                                                               cve: BOCG-14-D-235\\n\"                                                                                                                                                                                                                                                                                                                                                                                                                                                                                                                                                                                                                                                                                                                                                                                                                                                                                                                                                                                                                                                                                                                                                                                                                                                                                                                                                                                          \n",
      "[15] \"                       BOLETÍN OFICIAL DE LAS CORTES GENERALES\\n                             CONGRESO DE LOS DIPUTADOS\\nSerie D    Núm. 235                                           8 de marzo de 2021                                                                    Pág. 569\\n          179/002482    Autor: Carazo Hermoso, Eduardo\\n                               Montesinos de Miguel, Macarena\\n                               Cabezón Casas, Tomás\\n                               Moraleja Gómez, Tristana María\\n                               Riolobos Regadera, Carmen\\n                               Lorite Lorite, Andrés\\n                               Alonso Pérez, José Ángel\\n                        Atención informativa prestada por los telediarios de TVE a la noticia de que la\\n                        Fundación de las Cajas de Ahorro (Funcas) ha rebajado un punto su estimación\\n                        de crecimiento del Producto Interior Bruto (PIB) (núm. reg. 91708) .................... Ver_texto\\n          179/002483    Autor: Carazo Hermoso, Eduardo\\n                               Montesinos de Miguel, Macarena\\n                               Cabezón Casas, Tomás\\n                               Moraleja Gómez, Tristana María\\n                               Riolobos Regadera, Carmen\\n                               Lorite Lorite, Andrés\\n                               Alonso Pérez, José Ángel\\n                        Atención informativa prestada por RTVE a la noticia de que el Juzgado nº 42 de\\n                        Madrid ha citado a declarar al fundador de Podemos Juan Carlos Monedero\\n                        como imputado del caso Neurona (núm. reg. 91709) .......................................... Ver_texto\\n          179/002484    Autor: Carazo Hermoso, Eduardo\\n                               Montesinos de Miguel, Macarena\\n                               Cabezón Casas, Tomás\\n                               Moraleja Gómez, Tristana María\\n                               Riolobos Regadera, Carmen\\n                               Lorite Lorite, Andrés\\n                               Alonso Pérez, José Ángel\\n                        Atención informativa prestada por los telediarios de TVE y programas de info-\\n                        entretenimiento a la noticia de que el fundador de Podemos Juan Carlos Monedero\\n                        empleó la comisión que recibió por el contrato de Podemos con la consultora\\n                        Neurona en amortizar la hipoteca de su vivienda (núm. reg. 91710) ...................... Ver_texto\\n          179/002485    Autor: Carazo Hermoso, Eduardo\\n                                Montesinos de Miguel, Macarena\\n                                Cabezón Casas, Tomás\\n                                Moraleja Gómez, Tristana María\\n                                Riolobos Regadera, Carmen\\n                                Lorite Lorite, Andrés\\n                                Alonso Pérez, José Ángel\\n                        Atención informativa prestada por RTVE a la noticia de que el excomisario José\\n                        Jiménez Villarejo ha remitido una carta al Juez de la Audiencia Nacional Manuel\\n                        García Castellón en la que acusa a «emisarios gubernamentales» y del «PSOE\\n                        y Podemos» de ofrecerle la libertad «a cambio de testificar contra adversarios\\n                        políticos, exculpando a otros afines, sobre hechos que constan en el sumario»\\n                        (núm. reg. 91711) ................................................................................................. Ver_texto\\n          179/002486    Autor: Carazo Hermoso, Eduardo\\n                               Montesinos de Miguel, Macarena\\n                               Cabezón Casas, Tomás\\n                               Moraleja Gómez, Tristana María\\n                               Riolobos Regadera, Carmen\\n                                                                                                                                                           cve: BOCG-14-D-235\\n                               Lorite Lorite, Andrés\\n                               Alonso Pérez, José Ángel\\n                        Atención informativa prestada por los telediarios de TVE y los programas de\\n                        info-entretenimiento a la noticia de que la diputada de Más Madrid Mónica\\n\"                                                                                                                                                                                                                                                                                                                                                                                                                                                                                                                                                                                                                                                                                                                                                                                                                                        \n",
      "[16] \"                       BOLETÍN OFICIAL DE LAS CORTES GENERALES\\n                             CONGRESO DE LOS DIPUTADOS\\nSerie D    Núm. 235                                            8 de marzo de 2021                                                                       Pág. 367\\n          184/038315    Autor: Gamarra Ruiz-Clavijo, Concepción\\n                               Echániz Salgado, José Ignacio\\n                               Pastor Julián, Ana María\\n                               Olano Vela, Jaime Eduardo de\\n                               Romero Sánchez, Rosa María\\n                               Borrego Cortés, Isabel María\\n                               Rodríguez Herrer, María Elvira\\n                               Garcés Sanagustín, Mario\\n                               Velasco Morillo, Elvira\\n                               Callejas Cano, Juan Antonio\\n                               Almodóbar Barceló, Agustín\\n                        Previsiones del Gobierno acerca de poner en práctica alguna medida para\\n                        aumentar la diligencia, la eficacia, la eficiencia, la transparencia y la coherencia\\n                        de su gestión en la crisis generada por la pandemia de COVID-19 en nuestro\\n                        país (núm. reg. 94536) ......................................................................................... Ver_texto\\n          184/038316    Autor: Gamarra Ruiz-Clavijo, Concepción\\n                               Echániz Salgado, José Ignacio\\n                               Pastor Julián, Ana María\\n                               Olano Vela, Jaime Eduardo de\\n                               Romero Sánchez, Rosa María\\n                               Borrego Cortés, Isabel María\\n                               Rodríguez Herrer, María Elvira\\n                               Garcés Sanagustín, Mario\\n                               Velasco Morillo, Elvira\\n                               Callejas Cano, Juan Antonio\\n                               Almodóbar Barceló, Agustín\\n                        Motivos por los que en España no se está utilizando de manera sistemática el\\n                        rastreo electrónico con la App «RadarCovid» (núm. reg. 94537) ........................ Ver_texto\\n          184/038317    Autor: Delgado Arce, Celso Luis\\n                               Vázquez Blanco, Ana Belén\\n                        Relación de actuaciones ejecutadas desde el 17/11/2020 en el proyecto Risc\\n                        Miño-Limia liderado por la Confederación Hidrográfica Miño-Sil (núm.\\n                        reg. 94538) ........................................................................................................... Ver_texto\\n          184/038318    Autor: Muñoz Vidal, María\\n                               Martínez Granados, María Carmen\\n                               Gutiérrez Vivas, Miguel Ángel\\n                        Medidas específicas para la reindustrialización de Linares y su comarca (núm.\\n                        reg. 94539) ........................................................................................................... Ver_texto\\n          184/038321    Autor: Nogueras i Camero, Míriam\\n                        Previsiones acerca de dar instrucciones a la Agencia Tributaria para que proceda\\n                        a abrir expediente contra el Rey emérito Su Majestad Don Juan Carlos I (núm.\\n                        reg. 94545) ........................................................................................................... Ver_texto\\n                                                                                                                                                               cve: BOCG-14-D-235\\n\"                                                                                                                                                                                                                                                                                                                                                                                                                                                                                                                                                                                                                                                                                                                                                                                                                                                                                                                                                                                                                                                                                                                                                                                                                                                                                                                                                                                                                                                                                                                         \n",
      "[17] \"                       BOLETÍN OFICIAL DE LAS CORTES GENERALES\\n                             CONGRESO DE LOS DIPUTADOS\\nSerie D    Núm. 235                                            8 de marzo de 2021                                                                       Pág. 403\\n          184/032174    Autor: Gobierno\\n                        Contestación a doña Belén Hoyo Juliá (GP) sobre número de sanciones\\n                        impuestas en relación con el despliegue de 10.000 efectivos de la Policía\\n                        y Guardia Civil para controlar el cierre perimetral de la Comunitat Valenciana\\n                        y el confinamiento de 29 municipios, así como conceptos de las mismas y\\n                        municipios en los que se han impuesto (núm. reg. 92270) ............................ Ver_texto\\n                        (La pregunta de referencia fue publicada en el «BOCG. Congreso de los\\n                        Diputados» serie D, núm. 211, de 1 de febrero de 2021.)\\n          184/032176    Autor: Gobierno\\n                        Contestación a doña Belén Hoyo Juliá (GP) sobre actuaciones realizadas por\\n                        la Policía autonómica en la Comunitat Valenciana desde el día 07/01/2021\\n                        en relación con las zonas que tienen restricciones de movilidad, así como\\n                        municipios en los que se han realizado (núm. reg. 93082) ............................. Ver_texto\\n                        (La pregunta de referencia fue publicada en el «BOCG. Congreso de los\\n                        Diputados» serie D, núm. 211, de 1 de febrero de 2021.)\\n          184/032177    Autor: Gobierno\\n                        Contestación a doña Belén Hoyo Juliá (GP) sobre acciones de las Fuerzas y\\n                        Cuerpos de Seguridad del Estado que se han coordinado desde la\\n                        Delegación del Gobierno en la Comunitat Valenciana para puestos de\\n                        control y regulación del tráfico en los municipios confinados desde\\n                        el 07/01/2021 en dicha Comunidad (núm. reg. 93083) ..................................... Ver_texto\\n                        (La pregunta de referencia fue publicada en el «BOCG. Congreso de los\\n                        Diputados» serie D, núm. 211, de 1 de febrero de 2021.)\\n          184/032179    Autor: Gobierno\\n                        Contestación a don Íñigo Errejón Galván (GPlu) sobre gastos del Rey emérito\\n                        Su Majestad Don Juan Carlos I y su personal en Abu Dabi a cargo de\\n                        Patrimonio Nacional (núm. reg. 92810) ............................................................. Ver_texto\\n                        (La pregunta de referencia fue publicada en el «BOCG. Congreso de los\\n                        Diputados» serie D, núm. 211, de 1 de febrero de 2021.)\\n          184/032180    Autor: Gobierno\\n                        Contestación a don Francisco José Contreras Peláez (GVOX), a don José María\\n                        Sánchez García (GVOX), a doña María Teresa López Álvarez (GVOX), a don\\n                        Carlos José Zambrano García-Raez (GVOX) y a don Ignacio Gil Lázaro (GVOX)\\n                        sobre criterios seguidos para subvencionar las actividades de las\\n                        Fundaciones Largo Caballero, Andreu Nin y Baltasar Garzón (núm.\\n                        reg. 91577) ........................................................................................................... Ver_texto\\n                        (La pregunta de referencia fue publicada en el «BOCG. Congreso de los\\n                        Diputados» serie D, núm. 211, de 1 de febrero de 2021.)\\n          184/032183    Autor: Gobierno\\n                        Contestación a don Rafael Fernández-Lomana Gutiérrez (GVOX), a don José\\n                        Ramírez del Río (GVOX), a don Pedro Jesús Requejo Novoa (GVOX), a doña\\n                        Mireia Borrás Pabón (GVOX) y a don Francisco José Contreras Peláez (GVOX)\\n                        sobre trabajo conjunto del Consejo Superior de Deportes con el Ministerio\\n                        de Consumo para la elaboración de la Ley del Juego, así como incidencia\\n                        en el sector deportivo (núm. reg. 92044) .......................................................... Ver_texto\\n                        (La pregunta de referencia fue publicada en el «BOCG. Congreso de los\\n                        Diputados» serie D, núm. 211, de 1 de febrero de 2021.)\\n          184/032186    Autor: Gobierno\\n                                                                                                                                                               cve: BOCG-14-D-235\\n                        Contestación a don José Ramírez del Río (GVOX), a don Francisco José\\n                        Contreras Peláez (GVOX), a don Pedro Jesús Requejo Novoa (GVOX), a doña\\n                        Mireia Borrás Pabón (GVOX) y a don Rafael Fernández-Lomana Gutiérrez\\n                        (GVOX) sobre medidas adoptadas para resolver las incidencias en el\\n\"                                                      \n",
      "[18] \"                       BOLETÍN OFICIAL DE LAS CORTES GENERALES\\n                             CONGRESO DE LOS DIPUTADOS\\nSerie D    Núm. 235                                            8 de marzo de 2021                                                                       Pág. 420\\n          184/032368    Autor: Gobierno\\n                        Contestación a doña Josune Gorospe Elezcano (GV-EAJ-PNV) sobre\\n                        cronograma previsto de la campaña de publicidad institucional dirigida a\\n                        la sensibilización y recomendación de la vacunación frente a la COVID-19\\n                        (núm. reg. 92884) ................................................................................................ Ver_texto\\n                        (La pregunta de referencia fue publicada en el «BOCG. Congreso de los\\n                        Diputados» serie D, núm. 211, de 1 de febrero de 2021.)\\n          184/032371    Autor: Gobierno\\n                        Contestación a doña Idoia Sagastizabal Unzetabarrenetxea (GV-EAJ-PNV)\\n                        sobre previsiones acerca de adoptar nuevas medidas de apoyo a la\\n                        solvencia empresarial, así como valoración de la necesidad de poner en\\n                        marcha nuevos instrumentos de apoyo a la solvencia de las empresas de\\n                        menor dimensión (núm. reg. 92227) ................................................................. Ver_texto\\n                        (La pregunta de referencia fue publicada en el «BOCG. Congreso de los\\n                        Diputados» serie D, núm. 211, de 1 de febrero de 2021.)\\n          184/032379    Autor: Gobierno\\n                        Contestación a don Gabriel Rufián Romero (GR) sobre conocimiento de la\\n                        Vicepresidencia Primera del Gobierno de la existencia de personal pagado\\n                        por el erario público dedicado a la asistencia del Rey emérito en su estancia\\n                        fuera del Estado (núm. reg. 92811) .................................................................... Ver_texto\\n                        (La pregunta de referencia fue publicada en el «BOCG. Congreso de los\\n                        Diputados» serie D, núm. 211, de 1 de febrero de 2021.)\\n          184/032381    Autor: Gobierno\\n                        Contestación a doña María Muñoz Vidal (GCs) sobre problemas en el\\n                        aeropuerto Adolfo Suárez-Madrid Barajas con motivo de la nevada\\n                        Filomena (núm. reg. 92228) ................................................................................ Ver_texto\\n                        (La pregunta de referencia fue publicada en el «BOCG. Congreso de los\\n                        Diputados» serie D, núm. 211, de 1 de febrero de 2021.)\\n          184/032382    Autor: Gobierno\\n                        Contestación a don Joan Baldoví Roda (GPlu) sobre coste para las arcas\\n                        públicas de la asistencia del Rey emérito en Emiratos Árabes Unidos (núm.\\n                        reg. 92812) ........................................................................................................... Ver_texto\\n                        (La pregunta de referencia fue publicada en el «BOCG. Congreso de los\\n                        Diputados» serie D, núm. 211, de 1 de febrero de 2021.)\\n          184/032383    Autor: Gobierno\\n                        Contestación a don Jon Iñarritu García (GEH Bildu) sobre motivo por el que el\\n                        Gobierno mantiene personal con asignación de Patrimonio Nacional\\n                        destinado a servir al Rey emérito Su Majestad Don Juan Carlos I, así como\\n                        previsiones acerca de retirar a dicho personal (núm. reg. 92813) ................. Ver_texto\\n                        (La pregunta de referencia fue publicada en el «BOCG. Congreso de los\\n                        Diputados» serie D, núm. 211, de 1 de febrero de 2021.)\\n          184/032384    Autor: Gobierno\\n                        Contestación a don Jon Iñarritu García (GEH Bildu) sobre número de personas\\n                        con salario público que trabajan para el Rey emérito Su Majestad Don Juan\\n                        Carlos I en su estancia en el exterior, así como número de las que han\\n                        estado destinadas en el exterior desde su salida de España (núm.\\n                        reg. 92814) ........................................................................................................... Ver_texto\\n                        (La pregunta de referencia fue publicada en el «BOCG. Congreso de los\\n                                                                                                                                                               cve: BOCG-14-D-235\\n                        Diputados» serie D, núm. 211, de 1 de febrero de 2021.)\\n          184/032385    Autor: Gobierno\\n                        Contestación a don Jon Iñarritu García (GEH Bildu) sobre veracidad de la\\n                        información publicada en El Diario, según la cual Patrimonio Nacional\\n\"                          \n",
      "[19] \"                       BOLETÍN OFICIAL DE LAS CORTES GENERALES\\n                             CONGRESO DE LOS DIPUTADOS\\nSerie D    Núm. 235                                            8 de marzo de 2021                                                                       Pág. 421\\n                        pagaría los sueldos y viajes del personal desplazado a Emiratos Árabes\\n                        Unidos para asistir al Rey emérito Su Majestad Don Juan Carlos I, así como\\n                        salarios, viajes pagados y coste mensual (núm. reg. 92815) ......................... Ver_texto\\n                        (La pregunta de referencia fue publicada en el «BOCG. Congreso de los\\n                        Diputados» serie D, núm. 211, de 1 de febrero de 2021.)\\n          184/032394    Autor: Gobierno\\n                        Contestación a doña Concepción Gamarra Ruiz-Clavijo (GP), a don Mario\\n                        Garcés Sanagustín (GP) y a don Andrés Lorite Lorite (GP) sobre revisión\\n                        realizada del Plan de Actuaciones Invernales frente a contingencias de\\n                        hielo y nieve, conocido como Plan Invierno, de AENA, para hacer frente a\\n                        las particularidades de la borrasca Filomena (núm. reg. 92229) ................... Ver_texto\\n                        (La pregunta de referencia fue publicada en el «BOCG. Congreso de los\\n                        Diputados» serie D, núm. 211, de 1 de febrero de 2021.)\\n          184/032395    Autor: Gobierno\\n                        Contestación a doña Concepción Gamarra Ruiz-Clavijo (GP), a don Mario\\n                        Garcés Sanagustín (GP) y a don Andrés Lorite Lorite (GP) sobre medidas\\n                        preventivas que se pusieron en marcha en el aeropuerto Adolfo Suárez-\\n                        Madrid Barajas a las que se refirió el Ministro de Transportes, Movilidad y\\n                        Agenda Urbana el 14/01/2021 relacionadas con la borrasca Filomena (núm.\\n                        reg. 92230) ........................................................................................................... Ver_texto\\n                        (La pregunta de referencia fue publicada en el «BOCG. Congreso de los\\n                        Diputados» serie D, núm. 211, de 1 de febrero de 2021.)\\n          184/032398    Autor: Gobierno\\n                        Contestación a doña Concepción Gamarra Ruiz-Clavijo (GP), a don Mario\\n                        Garcés Sanagustín (GP) y a don Andrés Lorite Lorite (GP) sobre sucesos\\n                        acaecidos en el aeropuerto Adolfo Suárez-Madrid Barajas durante la\\n                        borrasca Filomena (núm. reg. 92231) ............................................................... Ver_texto\\n                        (La pregunta de referencia fue publicada en el «BOCG. Congreso de los\\n                        Diputados» serie D, núm. 211, de 1 de febrero de 2021.)\\n          184/032403    Autor: Gobierno\\n                        Contestación a doña Paloma Gázquez Collado (GP), a don Guillermo Mariscal\\n                        Anaya (GP) y a doña Tristana María Moraleja Gómez (GP) sobre declaraciones\\n                        de la Ministra Ribera sobre el precio de la luz (núm. reg. 92969) .................. Ver_texto\\n                        (La pregunta de referencia fue publicada en el «BOCG. Congreso de los\\n                        Diputados» serie D, núm. 211, de 1 de febrero de 2021.)\\n          184/032417    Autor: Gobierno\\n                        Contestación a don José Antonio Bermúdez de Castro Fernández (GP) y a doña\\n                        María Jesús Moro Almaraz (GP) sobre actuaciones realizadas por los\\n                        militares pertenecientes al Regimiento de Especialidades de Ingenieros\\n                        número 11, con sede en Salamanca, con ocasión del temporal de nieve\\n                        Filomena, así como medios materiales con los que han contado (núm.\\n                        reg. 90907) ........................................................................................................... Ver_texto\\n                        (La pregunta de referencia fue publicada en el «BOCG. Congreso de los\\n                        Diputados» serie D, núm. 211, de 1 de febrero de 2021.)\\n          184/032424    Autor: Gobierno\\n                        Contestación a doña Concep Cañadell Salvia (GPlu) sobre conversión de la\\n                        actual carretera N-230 en autovía hasta Benavarri, en lugar del municipio\\n                        de Sopeira, como estaba previsto en el estudio informativo, una vez\\n                                                                                                                                                               cve: BOCG-14-D-235\\n                        realizado el estudio de impacto ambiental (núm. reg. 90908) ........................ Ver_texto\\n                        (La pregunta de referencia fue publicada en el «BOCG. Congreso de los\\n                        Diputados» serie D, núm. 211, de 1 de febrero de 2021.)\\n\"                                                                        \n",
      "[20] \"                       BOLETÍN OFICIAL DE LAS CORTES GENERALES\\n                             CONGRESO DE LOS DIPUTADOS\\nSerie D    Núm. 235                                            8 de marzo de 2021                                                                       Pág. 471\\n          184/032960    Autor: Gobierno\\n                        Contestación a don Joseba Andoni Agirretxea Urresti (GV-EAJ-PNV) sobre\\n                        modificación de la normativa en las escuelas militares, coincidiendo con la\\n                        publicación de pruebas que reflejan focos de carácter totalitario en algunas\\n                        unidades de las Fuerzas Armadas (núm. reg. 92768) ...................................... Ver_texto\\n                        (La pregunta de referencia fue publicada en el «BOCG. Congreso de los\\n                        Diputados» serie D, núm. 211, de 1 de febrero de 2021.)\\n          184/032961    Autor: Gobierno\\n                        Contestación a don Joseba Andoni Agirretxea Urresti (GV-EAJ-PNV) sobre\\n                        opinión del Gobierno acerca de si es conveniente el control de ideologías\\n                        totalitarias sobre los cargos que ya formaban parte de las Fuerzas Armadas\\n                        o que promocionen para ascender dentro de ellas (núm. reg. 92769) .......... Ver_texto\\n                        (La pregunta de referencia fue publicada en el «BOCG. Congreso de los\\n                        Diputados» serie D, núm. 211, de 1 de febrero de 2021.)\\n          184/032962    Autor: Gobierno\\n                        Contestación a don Joseba Andoni Agirretxea Urresti (GV-EAJ-PNV) sobre\\n                        opinión del Gobierno acerca de si sería conveniente adicionar criterios\\n                        para medir la idoneidad de los ciudadanos que quieren acceder a las\\n                        Fuerzas Armadas (núm. reg. 92770) .................................................................. Ver_texto\\n                        (La pregunta de referencia fue publicada en el «BOCG. Congreso de los\\n                        Diputados» serie D, núm. 211, de 1 de febrero de 2021.)\\n          184/032963    Autor: Gobierno\\n                        Contestación a don Joseba Andoni Agirretxea Urresti (GV-EAJ-PNV) sobre\\n                        modificación de la normativa de las escuelas militares por la publicación\\n                        de noticias sobre focos totalitarios en las Fuerzas Armadas (núm.\\n                        reg. 92771) ........................................................................................................... Ver_texto\\n                        (La pregunta de referencia fue publicada en el «BOCG. Congreso de los\\n                        Diputados» serie D, núm. 211, de 1 de febrero de 2021.)\\n          184/032964    Autor: Gobierno\\n                        Contestación a don Joseba Andoni Agirretxea Urresti (GV-EAJ-PNV) sobre\\n                        medidas previstas para eliminar simbología y terminología heredada de la\\n                        sublevación militar de 1936 y de ideología totalitaria (núm. reg. 92772) ...... Ver_texto\\n                        (La pregunta de referencia fue publicada en el «BOCG. Congreso de los\\n                        Diputados» serie D, núm. 211, de 1 de febrero de 2021.)\\n          184/032966    Autor: Gobierno\\n                        Contestación a don José Ignacio Echániz Salgado (GP) y a don Andrés Lorite\\n                        Lorite (GP) sobre previsiones de atender la solicitud de la Comunidad de\\n                        Madrid y suspender los vuelos provenientes de Sudáfrica y Brasil ante la\\n                        «altísima capacidad de contagio» de las nuevas variantes de COVID-19\\n                        (núm. reg. 93112) ................................................................................................. Ver_texto\\n                        (La pregunta de referencia fue publicada en el «BOCG. Congreso de los\\n                        Diputados» serie D, núm. 211, de 1 de febrero de 2021.)\\n          184/032967    Autor: Gobierno\\n                        Contestación a don Genís Boadella Esteve (GPlu) sobre gastos de personal,\\n                        salarios, asistencias y viajes con cargo al erario que considera el Gobierno\\n                        que debe mantener el Rey emérito Su Majestad Don Juan Carlos I (núm.\\n                        reg. 92816) ........................................................................................................... Ver_texto\\n                        (La pregunta de referencia fue publicada en el «BOCG. Congreso de los\\n                                                                                                                                                               cve: BOCG-14-D-235\\n                        Diputados» serie D, núm. 211, de 1 de febrero de 2021.)\\n          184/032968    Autor: Gobierno\\n                        Contestación a don Genís Boadella Esteve (GPlu) sobre detalle de importes y\\n                        conceptos que se han asumido con cargo al erario en relación con el Rey\\n\"                                 \n",
      "[21] \"                       BOLETÍN OFICIAL DE LAS CORTES GENERALES\\n                             CONGRESO DE LOS DIPUTADOS\\nSerie D    Núm. 235                                            8 de marzo de 2021                                                                       Pág. 472\\n                        emérito Su Majestad Don Juan Carlos I desde su cambio de residencia\\n                        (núm. reg. 92817) ................................................................................................ Ver_texto\\n                        (La pregunta de referencia fue publicada en el «BOCG. Congreso de los\\n                        Diputados» serie D, núm. 211, de 1 de febrero de 2021.)\\n          184/032971    Autor: Gobierno\\n                        Contestación a doña Elvira Velasco Morillo (GP) sobre vinculación del rechazo\\n                        a los proyectos localistas con situaciones excepcionales de algunos\\n                        territorios como la provincia de Zamora que requieren una atención\\n                        diferenciada de los fondos de la Unión Europea (núm. reg. 90925) .............. Ver_texto\\n                        (La pregunta de referencia fue publicada en el «BOCG. Congreso de los\\n                        Diputados» serie D, núm. 211, de 1 de febrero de 2021.)\\n          184/032973    Autor: Gobierno\\n                        Contestación a doña Elvira Velasco Morillo (GP) sobre medidas previstas\\n                        para combatir y evitar las agresiones al personal sanitario en la provincia\\n                        de Zamora (núm. reg. 92130) ............................................................................. Ver_texto\\n                        (La pregunta de referencia fue publicada en el «BOCG. Congreso de los\\n                        Diputados» serie D, núm. 211, de 1 de febrero de 2021.)\\n          184/032974    Autor: Gobierno\\n                        Contestación a doña Elvira Velasco Morillo (GP) sobre plazos para la\\n                        terminación de los proyectos técnicos del tramo de autovía entre Portugal\\n                        y Alcañides (Zamora), así como previsiones para la adjudicación en el\\n                        año 2020 de algún tramo de dicha autovía (núm. reg. 93094) ........................ Ver_texto\\n                        (La pregunta de referencia fue publicada en el «BOCG. Congreso de los\\n                        Diputados» serie D, núm. 211, de 1 de febrero de 2021.)\\n          184/032975    Autor: Gobierno\\n                        Contestación a doña Elvira Velasco Morillo (GP) sobre ejecución de la mejora\\n                        de la carretera N-631 en la provincia de Zamora (núm. reg. 93095) ............... Ver_texto\\n                        (La pregunta de referencia fue publicada en el «BOCG. Congreso de los\\n                        Diputados» serie D, núm. 211, de 1 de febrero de 2021.)\\n          184/032979    Autor: Gobierno\\n                        Contestación a doña Elvira Velasco Morillo (GP) sobre fase y departamento\\n                        en el que se encuentra el estudio sobre el destino del viejo recinto\\n                        penitenciario ubicado en Zamora capital y plazos e inversión previstos\\n                        para su futuro uso público (núm. reg. 92073) .................................................. Ver_texto\\n                        (La pregunta de referencia fue publicada en el «BOCG. Congreso de los\\n                        Diputados» serie D, núm. 211, de 1 de febrero de 2021.)\\n          184/032981    Autor: Gobierno\\n                        Contestación a doña Elvira Velasco Morillo (GP) sobre proyectos que tiene\\n                        previsto el Gobierno someter a los fondos europeos de reconstrucción en\\n                        colaboración o conjuntamente con Portugal en la provincia de Zamora en\\n                        el marco de una estrategia de lucha contra la despoblación (núm.\\n                        reg. 90926) ........................................................................................................... Ver_texto\\n                        (La pregunta de referencia fue publicada en el «BOCG. Congreso de los\\n                        Diputados» serie D, núm. 211, de 1 de febrero de 2021.)\\n          184/032983    Autor: Gobierno\\n                        Contestación a doña Elvira Velasco Morillo (GP) sobre evaluación sobre el\\n                        estado de la autovía A-52 en la provincia de Zamora, así como previsiones\\n                                                                                                                                                               cve: BOCG-14-D-235\\n                        de inversión para mejorar la calidad de dicha autovía (núm. reg. 93096) ...... Ver_texto\\n                        (La pregunta de referencia fue publicada en el «BOCG. Congreso de los\\n                        Diputados» serie D, núm. 211, de 1 de febrero de 2021.)\\n\"                                                                                                                                                                                                                 \n",
      "[22] \"                       BOLETÍN OFICIAL DE LAS CORTES GENERALES\\n                             CONGRESO DE LOS DIPUTADOS\\nSerie D    Núm. 235                                            8 de marzo de 2021                                                                       Pág. 534\\n          184/033428    Autor: Gobierno\\n                        Contestación a doña Míriam Nogueras i Camero (GPlu) sobre número de\\n                        personas que el Gobierno, u organismos bajo su tutela, ha puesto a\\n                        disposición de Su Majestad el Rey Don Juan Carlos para su estancia en\\n                        Abu Dhabi (núm. reg. 92818) ............................................................................. Ver_texto\\n                        (La pregunta de referencia fue publicada en el «BOCG. Congreso de los\\n                        Diputados» serie D, núm. 211, de 1 de febrero de 2021.)\\n          184/033429    Autor: Gobierno\\n                        Contestación a doña Míriam Nogueras i Camero (GPlu) sobre motivo por el\\n                        que se financia con dinero público la estancia en Abu Dhabi de Su Majestad\\n                        el Rey Don Juan Carlos, que no ocupa cargo alguno y que está siendo\\n                        investigado por una serie de delitos (núm. reg. 92819) .................................. Ver_texto\\n                        (La pregunta de referencia fue publicada en el «BOCG. Congreso de los\\n                        Diputados» serie D, núm. 211, de 1 de febrero de 2021.)\\n          184/033430    Autor: Gobierno\\n                        Contestación a doña Míriam Nogueras i Camero (GPlu) sobre coste de la\\n                        estancia de Su Majestad el Rey Don Juan Carlos en Abu Dhabi desde su\\n                        marcha el mes de agosto de 2020 (núm. reg. 92820) ...................................... Ver_texto\\n                        (La pregunta de referencia fue publicada en el «BOCG. Congreso de los\\n                        Diputados» serie D, núm. 211, de 1 de febrero de 2021.)\\n          184/033431    Autor: Gobierno\\n                        Contestación a doña Míriam Nogueras i Camero (GPlu) sobre personas que\\n                        forman parte del dispositivo de seguridad del Rey emérito en Abu Dhabi\\n                        (núm. reg. 92821) ................................................................................................ Ver_texto\\n                        (La pregunta de referencia fue publicada en el «BOCG. Congreso de los\\n                        Diputados» serie D, núm. 211, de 1 de febrero de 2021.)\\n          184/033432    Autor: Gobierno\\n                        Contestación a doña Míriam Nogueras i Camero (GPlu) sobre opinión del\\n                        Gobierno acerca de si el Ministro del Interior, condenado hasta en siete\\n                        ocasiones por no investigar torturas, puede ser parte de un Gobierno\\n                        democrático (núm. reg. 92110) .......................................................................... Ver_texto\\n                        (La pregunta de referencia fue publicada en el «BOCG. Congreso de los\\n                        Diputados» serie D, núm. 211, de 1 de febrero de 2021.)\\n          184/033433    Autor: Gobierno\\n                        Contestación a doña Míriam Nogueras i Camero (GPlu) sobre mantenimiento\\n                        por el Presidente del Gobierno de su confianza en Grande-Marlaska,\\n                        incluso después de saber que su Ministro del Interior ha violado la\\n                        Convención Europea de Derechos Humanos (núm. reg. 92111) .................... Ver_texto\\n                        (La pregunta de referencia fue publicada en el «BOCG. Congreso de los\\n                        Diputados» serie D, núm. 211, de 1 de febrero de 2021.)\\n          184/033434    Autor: Gobierno\\n                        Contestación a doña Míriam Nogueras i Camero (GPlu) sobre opinión del\\n                        Gobierno acerca de la condena del Tribunal Europeo de Derechos Humanos\\n                        al Estado español por no haber investigado denuncias de torturas (núm.\\n                        reg. 92112) ........................................................................................................... Ver_texto\\n                        (La pregunta de referencia fue publicada en el «BOCG. Congreso de los\\n                        Diputados» serie D, núm. 211, de 1 de febrero de 2021.)\\n                                                                                                                                                               cve: BOCG-14-D-235\\n          184/033435    Autor: Gobierno\\n                        Contestación a doña Míriam Nogueras i Camero (GPlu) sobre medidas\\n                        previstas para que no se vuelvan a repetir las prácticas por las que el\\n\"                                                                                                                                                                                                                                                                                         \n",
      "[23] \"                       BOLETÍN OFICIAL DE LAS CORTES GENERALES\\n                             CONGRESO DE LOS DIPUTADOS\\nSerie D    Núm. 235                                            8 de marzo de 2021                                                                       Pág. 564\\n          179/002456    Autor: Carazo Hermoso, Eduardo\\n                               Montesinos de Miguel, Macarena\\n                               Cabezón Casas, Tomás\\n                               Moraleja Gómez, Tristana María\\n                               Riolobos Regadera, Carmen\\n                               Lorite Lorite, Andrés\\n                               Alonso Pérez, José Ángel\\n                        Última ocasión en la historia de la cadena pública en la que TVE1 obtiene un\\n                        dato de audiencia del 6,4 % como ha sucedido el 14 de febrero de 2021 (núm.\\n                        reg. 91244) ........................................................................................................... Ver_texto\\n          179/002457    Autor: Carazo Hermoso, Eduardo\\n                               Montesinos de Miguel, Macarena\\n                               Cabezón Casas, Tomás\\n                               Moraleja Gómez, Tristana María\\n                               Riolobos Regadera, Carmen\\n                               Lorite Lorite, Andrés\\n                               Alonso Pérez, José Ángel\\n                        Confirmación de si han coincidido para cubrir la misma noticia equipos de cuatro\\n                        programas diferentes de RTVE (núm. reg. 91245) .............................................. Ver_texto\\n          179/002458    Autor: Carazo Hermoso, Eduardo\\n                               Montesinos de Miguel, Macarena\\n                               Cabezón Casas, Tomás\\n                               Moraleja Gómez, Tristana María\\n                               Riolobos Regadera, Carmen\\n                               Lorite Lorite, Andrés\\n                               Alonso Pérez, José Ángel\\n                        Ejecución del proyecto en el que RTVE adjudicó a Telefónica el diseño de la\\n                        nueva «RTVE a la carta» (núm. reg. 91246) ....................................................... Ver_texto\\n          179/002459    Autor: Carazo Hermoso, Eduardo\\n                               Montesinos de Miguel, Macarena\\n                               Cabezón Casas, Tomás\\n                               Moraleja Gómez, Tristana María\\n                               Riolobos Regadera, Carmen\\n                               Lorite Lorite, Andrés\\n                               Alonso Pérez, José Ángel\\n                        Eco en los medios y canales de RTVE de la falsa noticia de un empeoramiento\\n                        de la salud del Rey emérito Juan Carlos I el 15 de febrero de 2021 (núm.\\n                        reg. 91247) ........................................................................................................... Ver_texto\\n          179/002460    Autor: Carazo Hermoso, Eduardo\\n                               Montesinos de Miguel, Macarena\\n                               Cabezón Casas, Tomás\\n                               Moraleja Gómez, Tristana María\\n                               Riolobos Regadera, Carmen\\n                               Lorite Lorite, Andrés\\n                               Alonso Pérez, José Ángel\\n                        Coste, objetivo y ubicación de la cuarta temporada de la serie «Estoy vivo»\\n                        en TVE (núm. reg. 91248) ................................................................................... Ver_texto\\n                                                                                                                                                               cve: BOCG-14-D-235\\n\"                                                                                                                                                                                                                                                                                                                                                                                                                                                                                                                                                                                                                                                                                                                                                                                                                                                                                                                                                                                                                                                                                                                                                                                                                                                                                                                                                                                          \n",
      "\n",
      "\n"
     ]
    }
   ],
   "source": [
    "print(bocg[1][1])"
   ]
  },
  {
   "cell_type": "markdown",
   "id": "paperback-bubble",
   "metadata": {},
   "source": [
    "## Extracción de las actas (para un BOCG)"
   ]
  },
  {
   "cell_type": "markdown",
   "id": "assisted-edmonton",
   "metadata": {},
   "source": [
    "A modo de ejemplo vamos a realizar la descarga del texto de las actas para el BOCG nº 235 de la legislatura 14. Más abajo se presenta el código para la descarga completa para todas las actas de los BOCG's con los criterios de busqueda."
   ]
  },
  {
   "cell_type": "markdown",
   "id": "injured-trustee",
   "metadata": {},
   "source": [
    "### Iteración por las actas del BOCG seleccionado"
   ]
  },
  {
   "cell_type": "markdown",
   "id": "suffering-transaction",
   "metadata": {},
   "source": [
    "Recorremos las actas de cada una de las páginas del BOCG seleccionado y nos quedamos con las actas que contienen alguno de los criterios de búsqueda."
   ]
  },
  {
   "cell_type": "code",
   "execution_count": 22,
   "id": "stainless-corporation",
   "metadata": {},
   "outputs": [],
   "source": [
    "num_reg <- list() # Lista que almacena el número de registro del acta contenida en el BOCG\n",
    "txt_acta <- list() # Lista que almacena el texto del acta"
   ]
  },
  {
   "cell_type": "markdown",
   "id": "irish-combining",
   "metadata": {},
   "source": [
    "### Iteración por las actas del BOCG seleccionado"
   ]
  },
  {
   "cell_type": "markdown",
   "id": "accepted-horizon",
   "metadata": {},
   "source": [
    "Recorremos las actas de cada una de las páginas del BOCG seleccionado y nos quedamos con las actas que contienen alguno de los criterios de búsqueda."
   ]
  },
  {
   "cell_type": "code",
   "execution_count": 25,
   "id": "sweet-formation",
   "metadata": {},
   "outputs": [
    {
     "name": "stderr",
     "output_type": "stream",
     "text": [
      "Warning message in stri_locate_all_regex(string, pattern, omit_no_match = TRUE, :\n",
      "\"argument is not an atomic vector; coercing\"Warning message in stri_sub(string, from = start, to = end):\n",
      "\"argument is not an atomic vector; coercing\""
     ]
    },
    {
     "name": "stdout",
     "output_type": "stream",
     "text": [
      "[1] \"BOCG: Número 235 de 8 de marzo de 2021 Números de registro del acta: 94536\"\n"
     ]
    },
    {
     "name": "stderr",
     "output_type": "stream",
     "text": [
      "Warning message in if (str_length(txt_acta) < 200) {:\n",
      "\"la condición tiene longitud > 1 y sólo el primer elemento será usado\""
     ]
    },
    {
     "name": "stdout",
     "output_type": "stream",
     "text": [
      "Converting page 1 to acta_1.png..."
     ]
    },
    {
     "name": "stderr",
     "output_type": "stream",
     "text": [
      "PDF error: No display font for 'ArialUnicode'\n"
     ]
    },
    {
     "name": "stdout",
     "output_type": "stream",
     "text": [
      " done!\n",
      "Converting page 2 to acta_2.png... done!\n",
      "[1] \"BOCG: Número 235 de 8 de marzo de 2021 Números de registro del acta: 94537\"\n"
     ]
    },
    {
     "name": "stderr",
     "output_type": "stream",
     "text": [
      "Warning message in if (str_length(txt_acta) < 200) {:\n",
      "\"la condición tiene longitud > 1 y sólo el primer elemento será usado\""
     ]
    },
    {
     "name": "stdout",
     "output_type": "stream",
     "text": [
      "Converting page 1 to acta_1.png..."
     ]
    },
    {
     "name": "stderr",
     "output_type": "stream",
     "text": [
      "PDF error: No display font for 'ArialUnicode'\n"
     ]
    },
    {
     "name": "stdout",
     "output_type": "stream",
     "text": [
      " done!\n",
      "Converting page 2 to acta_2.png... done!\n",
      "[1] \"BOCG: Número 235 de 8 de marzo de 2021 Números de registro del acta: 94538\"\n"
     ]
    },
    {
     "name": "stderr",
     "output_type": "stream",
     "text": [
      "Warning message in if (str_length(txt_acta) < 200) {:\n",
      "\"la condición tiene longitud > 1 y sólo el primer elemento será usado\""
     ]
    },
    {
     "name": "stdout",
     "output_type": "stream",
     "text": [
      "Converting page 1 to acta_1.png..."
     ]
    },
    {
     "name": "stderr",
     "output_type": "stream",
     "text": [
      "PDF error: No display font for 'ArialUnicode'\n"
     ]
    },
    {
     "name": "stdout",
     "output_type": "stream",
     "text": [
      " done!\n",
      "Converting page 2 to acta_2.png... done!\n",
      "[1] \"BOCG: Número 235 de 8 de marzo de 2021 Números de registro del acta: 94539\"\n"
     ]
    },
    {
     "name": "stderr",
     "output_type": "stream",
     "text": [
      "Warning message in if (str_length(txt_acta) < 200) {:\n",
      "\"la condición tiene longitud > 1 y sólo el primer elemento será usado\""
     ]
    },
    {
     "name": "stdout",
     "output_type": "stream",
     "text": [
      "[1] \"BOCG: Número 235 de 8 de marzo de 2021 Números de registro del acta: 94545\"\n",
      "Converting page 1 to acta_1.png..."
     ]
    },
    {
     "name": "stderr",
     "output_type": "stream",
     "text": [
      "PDF error: No display font for 'ArialUnicode'\n"
     ]
    },
    {
     "name": "stdout",
     "output_type": "stream",
     "text": [
      " done!\n"
     ]
    },
    {
     "name": "stderr",
     "output_type": "stream",
     "text": [
      "Warning message in stri_locate_all_regex(string, pattern, omit_no_match = TRUE, :\n",
      "\"argument is not an atomic vector; coercing\"Warning message in stri_sub(string, from = start, to = end):\n",
      "\"argument is not an atomic vector; coercing\""
     ]
    },
    {
     "name": "stdout",
     "output_type": "stream",
     "text": [
      "[1] \"BOCG: Número 235 de 8 de marzo de 2021 Números de registro del acta: 90975\"\n"
     ]
    },
    {
     "name": "stderr",
     "output_type": "stream",
     "text": [
      "Warning message in if (str_length(txt_acta) < 200) {:\n",
      "\"la condición tiene longitud > 1 y sólo el primer elemento será usado\""
     ]
    },
    {
     "name": "stdout",
     "output_type": "stream",
     "text": [
      "[1] \"BOCG: Número 235 de 8 de marzo de 2021 Números de registro del acta: 92809\"\n",
      "[1] \"BOCG: Número 235 de 8 de marzo de 2021 Números de registro del acta: 94593\"\n",
      "[1] \"BOCG: Número 235 de 8 de marzo de 2021 Números de registro del acta: 93079\"\n"
     ]
    },
    {
     "name": "stderr",
     "output_type": "stream",
     "text": [
      "Warning message in if (str_length(txt_acta) < 200) {:\n",
      "\"la condición tiene longitud > 1 y sólo el primer elemento será usado\""
     ]
    },
    {
     "name": "stdout",
     "output_type": "stream",
     "text": [
      "[1] \"BOCG: Número 235 de 8 de marzo de 2021 Números de registro del acta: 93080\"\n"
     ]
    },
    {
     "name": "stderr",
     "output_type": "stream",
     "text": [
      "Warning message in if (str_length(txt_acta) < 200) {:\n",
      "\"la condición tiene longitud > 1 y sólo el primer elemento será usado\""
     ]
    },
    {
     "name": "stdout",
     "output_type": "stream",
     "text": [
      "[1] \"BOCG: Número 235 de 8 de marzo de 2021 Números de registro del acta: 93081\"\n"
     ]
    },
    {
     "name": "stderr",
     "output_type": "stream",
     "text": [
      "Warning message in if (str_length(txt_acta) < 200) {:\n",
      "\"la condición tiene longitud > 1 y sólo el primer elemento será usado\"Warning message in stri_locate_all_regex(string, pattern, omit_no_match = TRUE, :\n",
      "\"argument is not an atomic vector; coercing\"Warning message in stri_sub(string, from = start, to = end):\n",
      "\"argument is not an atomic vector; coercing\""
     ]
    },
    {
     "name": "stdout",
     "output_type": "stream",
     "text": [
      "[1] \"BOCG: Número 235 de 8 de marzo de 2021 Números de registro del acta: 92270\"\n",
      "[1] \"BOCG: Número 235 de 8 de marzo de 2021 Números de registro del acta: 93082\"\n"
     ]
    },
    {
     "name": "stderr",
     "output_type": "stream",
     "text": [
      "Warning message in if (str_length(txt_acta) < 200) {:\n",
      "\"la condición tiene longitud > 1 y sólo el primer elemento será usado\""
     ]
    },
    {
     "name": "stdout",
     "output_type": "stream",
     "text": [
      "[1] \"BOCG: Número 235 de 8 de marzo de 2021 Números de registro del acta: 93083\"\n"
     ]
    },
    {
     "name": "stderr",
     "output_type": "stream",
     "text": [
      "Warning message in if (str_length(txt_acta) < 200) {:\n",
      "\"la condición tiene longitud > 1 y sólo el primer elemento será usado\""
     ]
    },
    {
     "name": "stdout",
     "output_type": "stream",
     "text": [
      "[1] \"BOCG: Número 235 de 8 de marzo de 2021 Números de registro del acta: 92810\"\n",
      "[1] \"BOCG: Número 235 de 8 de marzo de 2021 Números de registro del acta: 91577\"\n"
     ]
    },
    {
     "name": "stderr",
     "output_type": "stream",
     "text": [
      "Warning message in if (str_length(txt_acta) < 200) {:\n",
      "\"la condición tiene longitud > 1 y sólo el primer elemento será usado\""
     ]
    },
    {
     "name": "stdout",
     "output_type": "stream",
     "text": [
      "[1] \"BOCG: Número 235 de 8 de marzo de 2021 Números de registro del acta: 92044\"\n"
     ]
    },
    {
     "name": "stderr",
     "output_type": "stream",
     "text": [
      "Warning message in stri_locate_all_regex(string, pattern, omit_no_match = TRUE, :\n",
      "\"argument is not an atomic vector; coercing\"Warning message in stri_sub(string, from = start, to = end):\n",
      "\"argument is not an atomic vector; coercing\""
     ]
    },
    {
     "name": "stdout",
     "output_type": "stream",
     "text": [
      "[1] \"BOCG: Número 235 de 8 de marzo de 2021 Números de registro del acta: 92884\"\n",
      "[1] \"BOCG: Número 235 de 8 de marzo de 2021 Números de registro del acta: 92227\"\n"
     ]
    },
    {
     "name": "stderr",
     "output_type": "stream",
     "text": [
      "Warning message in if (str_length(txt_acta) < 200) {:\n",
      "\"la condición tiene longitud > 1 y sólo el primer elemento será usado\""
     ]
    },
    {
     "name": "stdout",
     "output_type": "stream",
     "text": [
      "[1] \"BOCG: Número 235 de 8 de marzo de 2021 Números de registro del acta: 92811\"\n",
      "[1] \"BOCG: Número 235 de 8 de marzo de 2021 Números de registro del acta: 92228\"\n",
      "[1] \"BOCG: Número 235 de 8 de marzo de 2021 Números de registro del acta: 92812\"\n",
      "[1] \"BOCG: Número 235 de 8 de marzo de 2021 Números de registro del acta: 92813\"\n",
      "[1] \"BOCG: Número 235 de 8 de marzo de 2021 Números de registro del acta: 92814\"\n"
     ]
    },
    {
     "name": "stderr",
     "output_type": "stream",
     "text": [
      "Warning message in stri_locate_all_regex(string, pattern, omit_no_match = TRUE, :\n",
      "\"argument is not an atomic vector; coercing\"Warning message in stri_sub(string, from = start, to = end):\n",
      "\"argument is not an atomic vector; coercing\""
     ]
    },
    {
     "name": "stdout",
     "output_type": "stream",
     "text": [
      "[1] \"BOCG: Número 235 de 8 de marzo de 2021 Números de registro del acta: 92815\"\n",
      "[1] \"BOCG: Número 235 de 8 de marzo de 2021 Números de registro del acta: 92229\"\n",
      "[1] \"BOCG: Número 235 de 8 de marzo de 2021 Números de registro del acta: 92230\"\n",
      "[1] \"BOCG: Número 235 de 8 de marzo de 2021 Números de registro del acta: 92231\"\n",
      "[1] \"BOCG: Número 235 de 8 de marzo de 2021 Números de registro del acta: 92969\"\n",
      "[1] \"BOCG: Número 235 de 8 de marzo de 2021 Números de registro del acta: 90907\"\n",
      "[1] \"BOCG: Número 235 de 8 de marzo de 2021 Números de registro del acta: 90908\"\n"
     ]
    },
    {
     "name": "stderr",
     "output_type": "stream",
     "text": [
      "Warning message in stri_locate_all_regex(string, pattern, omit_no_match = TRUE, :\n",
      "\"argument is not an atomic vector; coercing\"Warning message in stri_sub(string, from = start, to = end):\n",
      "\"argument is not an atomic vector; coercing\""
     ]
    },
    {
     "name": "stdout",
     "output_type": "stream",
     "text": [
      "[1] \"BOCG: Número 235 de 8 de marzo de 2021 Números de registro del acta: 92768\"\n",
      "[1] \"BOCG: Número 235 de 8 de marzo de 2021 Números de registro del acta: 92769\"\n",
      "[1] \"BOCG: Número 235 de 8 de marzo de 2021 Números de registro del acta: 92770\"\n",
      "[1] \"BOCG: Número 235 de 8 de marzo de 2021 Números de registro del acta: 92771\"\n",
      "[1] \"BOCG: Número 235 de 8 de marzo de 2021 Números de registro del acta: 92772\"\n",
      "[1] \"BOCG: Número 235 de 8 de marzo de 2021 Números de registro del acta: 93112\"\n",
      "[1] \"BOCG: Número 235 de 8 de marzo de 2021 Números de registro del acta: 92816\"\n"
     ]
    },
    {
     "name": "stderr",
     "output_type": "stream",
     "text": [
      "Warning message in stri_locate_all_regex(string, pattern, omit_no_match = TRUE, :\n",
      "\"argument is not an atomic vector; coercing\"Warning message in stri_sub(string, from = start, to = end):\n",
      "\"argument is not an atomic vector; coercing\""
     ]
    },
    {
     "name": "stdout",
     "output_type": "stream",
     "text": [
      "[1] \"BOCG: Número 235 de 8 de marzo de 2021 Números de registro del acta: 92817\"\n",
      "[1] \"BOCG: Número 235 de 8 de marzo de 2021 Números de registro del acta: 90925\"\n"
     ]
    },
    {
     "name": "stderr",
     "output_type": "stream",
     "text": [
      "Warning message in if (str_length(txt_acta) < 200) {:\n",
      "\"la condición tiene longitud > 1 y sólo el primer elemento será usado\""
     ]
    },
    {
     "name": "stdout",
     "output_type": "stream",
     "text": [
      "[1] \"BOCG: Número 235 de 8 de marzo de 2021 Números de registro del acta: 92130\"\n",
      "[1] \"BOCG: Número 235 de 8 de marzo de 2021 Números de registro del acta: 93094\"\n",
      "[1] \"BOCG: Número 235 de 8 de marzo de 2021 Números de registro del acta: 93095\"\n",
      "[1] \"BOCG: Número 235 de 8 de marzo de 2021 Números de registro del acta: 92073\"\n",
      "[1] \"BOCG: Número 235 de 8 de marzo de 2021 Números de registro del acta: 90926\"\n"
     ]
    },
    {
     "name": "stderr",
     "output_type": "stream",
     "text": [
      "Warning message in if (str_length(txt_acta) < 200) {:\n",
      "\"la condición tiene longitud > 1 y sólo el primer elemento será usado\""
     ]
    },
    {
     "name": "stdout",
     "output_type": "stream",
     "text": [
      "[1] \"BOCG: Número 235 de 8 de marzo de 2021 Números de registro del acta: 93096\"\n"
     ]
    },
    {
     "name": "stderr",
     "output_type": "stream",
     "text": [
      "Warning message in stri_locate_all_regex(string, pattern, omit_no_match = TRUE, :\n",
      "\"argument is not an atomic vector; coercing\"Warning message in stri_sub(string, from = start, to = end):\n",
      "\"argument is not an atomic vector; coercing\""
     ]
    },
    {
     "name": "stdout",
     "output_type": "stream",
     "text": [
      "[1] \"BOCG: Número 235 de 8 de marzo de 2021 Números de registro del acta: 92818\"\n",
      "[1] \"BOCG: Número 235 de 8 de marzo de 2021 Números de registro del acta: 92819\"\n",
      "[1] \"BOCG: Número 235 de 8 de marzo de 2021 Números de registro del acta: 92820\"\n",
      "[1] \"BOCG: Número 235 de 8 de marzo de 2021 Números de registro del acta: 92821\"\n",
      "[1] \"BOCG: Número 235 de 8 de marzo de 2021 Números de registro del acta: 92110\"\n",
      "[1] \"BOCG: Número 235 de 8 de marzo de 2021 Números de registro del acta: 92111\"\n",
      "[1] \"BOCG: Número 235 de 8 de marzo de 2021 Números de registro del acta: 92112\"\n"
     ]
    },
    {
     "name": "stderr",
     "output_type": "stream",
     "text": [
      "Warning message in stri_locate_all_regex(string, pattern, omit_no_match = TRUE, :\n",
      "\"argument is not an atomic vector; coercing\"Warning message in stri_sub(string, from = start, to = end):\n",
      "\"argument is not an atomic vector; coercing\""
     ]
    },
    {
     "name": "stdout",
     "output_type": "stream",
     "text": [
      "[1] \"BOCG: Número 235 de 8 de marzo de 2021 Números de registro del acta: 91235\"\n",
      "Converting page 1 to acta_1.png..."
     ]
    },
    {
     "name": "stderr",
     "output_type": "stream",
     "text": [
      "PDF error: No display font for 'ArialUnicode'\n"
     ]
    },
    {
     "name": "stdout",
     "output_type": "stream",
     "text": [
      " done!\n",
      "[1] \"BOCG: Número 235 de 8 de marzo de 2021 Números de registro del acta: 91236\"\n",
      "Converting page 1 to acta_1.png..."
     ]
    },
    {
     "name": "stderr",
     "output_type": "stream",
     "text": [
      "PDF error: No display font for 'ArialUnicode'\n"
     ]
    },
    {
     "name": "stdout",
     "output_type": "stream",
     "text": [
      " done!\n",
      "[1] \"BOCG: Número 235 de 8 de marzo de 2021 Números de registro del acta: 91237\"\n",
      "Converting page 1 to acta_1.png..."
     ]
    },
    {
     "name": "stderr",
     "output_type": "stream",
     "text": [
      "PDF error: No display font for 'ArialUnicode'\n"
     ]
    },
    {
     "name": "stdout",
     "output_type": "stream",
     "text": [
      " done!\n",
      "[1] \"BOCG: Número 235 de 8 de marzo de 2021 Números de registro del acta: 91238\"\n",
      "Converting page 1 to acta_1.png..."
     ]
    },
    {
     "name": "stderr",
     "output_type": "stream",
     "text": [
      "PDF error: No display font for 'ArialUnicode'\n"
     ]
    },
    {
     "name": "stdout",
     "output_type": "stream",
     "text": [
      " done!\n"
     ]
    },
    {
     "name": "stderr",
     "output_type": "stream",
     "text": [
      "Warning message in stri_locate_all_regex(string, pattern, omit_no_match = TRUE, :\n",
      "\"argument is not an atomic vector; coercing\"Warning message in stri_sub(string, from = start, to = end):\n",
      "\"argument is not an atomic vector; coercing\""
     ]
    },
    {
     "name": "stdout",
     "output_type": "stream",
     "text": [
      "[1] \"BOCG: Número 235 de 8 de marzo de 2021 Números de registro del acta: 91239\"\n",
      "Converting page 1 to acta_1.png..."
     ]
    },
    {
     "name": "stderr",
     "output_type": "stream",
     "text": [
      "PDF error: No display font for 'ArialUnicode'\n"
     ]
    },
    {
     "name": "stdout",
     "output_type": "stream",
     "text": [
      " done!\n",
      "[1] \"BOCG: Número 235 de 8 de marzo de 2021 Números de registro del acta: 91240\"\n",
      "Converting page 1 to acta_1.png..."
     ]
    },
    {
     "name": "stderr",
     "output_type": "stream",
     "text": [
      "PDF error: No display font for 'ArialUnicode'\n"
     ]
    },
    {
     "name": "stdout",
     "output_type": "stream",
     "text": [
      " done!\n",
      "[1] \"BOCG: Número 235 de 8 de marzo de 2021 Números de registro del acta: 91241\"\n",
      "Converting page 1 to acta_1.png..."
     ]
    },
    {
     "name": "stderr",
     "output_type": "stream",
     "text": [
      "PDF error: No display font for 'ArialUnicode'\n"
     ]
    },
    {
     "name": "stdout",
     "output_type": "stream",
     "text": [
      " done!\n",
      "[1] \"BOCG: Número 235 de 8 de marzo de 2021 Números de registro del acta: 91242\"\n",
      "Converting page 1 to acta_1.png..."
     ]
    },
    {
     "name": "stderr",
     "output_type": "stream",
     "text": [
      "PDF error: No display font for 'ArialUnicode'\n"
     ]
    },
    {
     "name": "stdout",
     "output_type": "stream",
     "text": [
      " done!\n",
      "[1] \"BOCG: Número 235 de 8 de marzo de 2021 Números de registro del acta: 91243\"\n",
      "Converting page 1 to acta_1.png..."
     ]
    },
    {
     "name": "stderr",
     "output_type": "stream",
     "text": [
      "PDF error: No display font for 'ArialUnicode'\n"
     ]
    },
    {
     "name": "stdout",
     "output_type": "stream",
     "text": [
      " done!\n"
     ]
    },
    {
     "name": "stderr",
     "output_type": "stream",
     "text": [
      "Warning message in stri_locate_all_regex(string, pattern, omit_no_match = TRUE, :\n",
      "\"argument is not an atomic vector; coercing\"Warning message in stri_sub(string, from = start, to = end):\n",
      "\"argument is not an atomic vector; coercing\""
     ]
    },
    {
     "name": "stdout",
     "output_type": "stream",
     "text": [
      "[1] \"BOCG: Número 235 de 8 de marzo de 2021 Números de registro del acta: 91244\"\n",
      "Converting page 1 to acta_1.png..."
     ]
    },
    {
     "name": "stderr",
     "output_type": "stream",
     "text": [
      "PDF error: No display font for 'ArialUnicode'\n"
     ]
    },
    {
     "name": "stdout",
     "output_type": "stream",
     "text": [
      " done!\n",
      "[1] \"BOCG: Número 235 de 8 de marzo de 2021 Números de registro del acta: 91245\"\n",
      "Converting page 1 to acta_1.png..."
     ]
    },
    {
     "name": "stderr",
     "output_type": "stream",
     "text": [
      "PDF error: No display font for 'ArialUnicode'\n"
     ]
    },
    {
     "name": "stdout",
     "output_type": "stream",
     "text": [
      " done!\n",
      "[1] \"BOCG: Número 235 de 8 de marzo de 2021 Números de registro del acta: 91246\"\n",
      "Converting page 1 to acta_1.png..."
     ]
    },
    {
     "name": "stderr",
     "output_type": "stream",
     "text": [
      "PDF error: No display font for 'ArialUnicode'\n"
     ]
    },
    {
     "name": "stdout",
     "output_type": "stream",
     "text": [
      " done!\n",
      "[1] \"BOCG: Número 235 de 8 de marzo de 2021 Números de registro del acta: 91247\"\n",
      "Converting page 1 to acta_1.png..."
     ]
    },
    {
     "name": "stderr",
     "output_type": "stream",
     "text": [
      "PDF error: No display font for 'ArialUnicode'\n"
     ]
    },
    {
     "name": "stdout",
     "output_type": "stream",
     "text": [
      " done!\n",
      "[1] \"BOCG: Número 235 de 8 de marzo de 2021 Números de registro del acta: 91248\"\n",
      "Converting page 1 to acta_1.png..."
     ]
    },
    {
     "name": "stderr",
     "output_type": "stream",
     "text": [
      "PDF error: No display font for 'ArialUnicode'\n"
     ]
    },
    {
     "name": "stdout",
     "output_type": "stream",
     "text": [
      " done!\n"
     ]
    },
    {
     "name": "stderr",
     "output_type": "stream",
     "text": [
      "Warning message in stri_locate_all_regex(string, pattern, omit_no_match = TRUE, :\n",
      "\"argument is not an atomic vector; coercing\"Warning message in stri_sub(string, from = start, to = end):\n",
      "\"argument is not an atomic vector; coercing\""
     ]
    },
    {
     "name": "stdout",
     "output_type": "stream",
     "text": [
      "[1] \"BOCG: Número 235 de 8 de marzo de 2021 Números de registro del acta: 91708\"\n",
      "Converting page 1 to acta_1.png..."
     ]
    },
    {
     "name": "stderr",
     "output_type": "stream",
     "text": [
      "PDF error: No display font for 'ArialUnicode'\n"
     ]
    },
    {
     "name": "stdout",
     "output_type": "stream",
     "text": [
      " done!\n",
      "[1] \"BOCG: Número 235 de 8 de marzo de 2021 Números de registro del acta: 91709\"\n",
      "Converting page 1 to acta_1.png..."
     ]
    },
    {
     "name": "stderr",
     "output_type": "stream",
     "text": [
      "PDF error: No display font for 'ArialUnicode'\n"
     ]
    },
    {
     "name": "stdout",
     "output_type": "stream",
     "text": [
      " done!\n",
      "[1] \"BOCG: Número 235 de 8 de marzo de 2021 Números de registro del acta: 91710\"\n",
      "Converting page 1 to acta_1.png..."
     ]
    },
    {
     "name": "stderr",
     "output_type": "stream",
     "text": [
      "PDF error: No display font for 'ArialUnicode'\n"
     ]
    },
    {
     "name": "stdout",
     "output_type": "stream",
     "text": [
      " done!\n",
      "[1] \"BOCG: Número 235 de 8 de marzo de 2021 Números de registro del acta: 91711\"\n",
      "Converting page 1 to acta_1.png..."
     ]
    },
    {
     "name": "stderr",
     "output_type": "stream",
     "text": [
      "PDF error: No display font for 'ArialUnicode'\n"
     ]
    },
    {
     "name": "stdout",
     "output_type": "stream",
     "text": [
      " done!\n"
     ]
    },
    {
     "name": "stderr",
     "output_type": "stream",
     "text": [
      "Warning message in stri_locate_all_regex(string, pattern, omit_no_match = TRUE, :\n",
      "\"argument is not an atomic vector; coercing\"Warning message in stri_sub(string, from = start, to = end):\n",
      "\"argument is not an atomic vector; coercing\""
     ]
    },
    {
     "name": "stdout",
     "output_type": "stream",
     "text": [
      "[1] \"BOCG: Número 235 de 8 de marzo de 2021 Números de registro del acta: 94536\"\n"
     ]
    },
    {
     "name": "stderr",
     "output_type": "stream",
     "text": [
      "Warning message in if (str_length(txt_acta) < 200) {:\n",
      "\"la condición tiene longitud > 1 y sólo el primer elemento será usado\""
     ]
    },
    {
     "name": "stdout",
     "output_type": "stream",
     "text": [
      "Converting page 1 to acta_1.png..."
     ]
    },
    {
     "name": "stderr",
     "output_type": "stream",
     "text": [
      "PDF error: No display font for 'ArialUnicode'\n"
     ]
    },
    {
     "name": "stdout",
     "output_type": "stream",
     "text": [
      " done!\n",
      "Converting page 2 to acta_2.png... done!\n",
      "[1] \"BOCG: Número 235 de 8 de marzo de 2021 Números de registro del acta: 94537\"\n"
     ]
    },
    {
     "name": "stderr",
     "output_type": "stream",
     "text": [
      "Warning message in if (str_length(txt_acta) < 200) {:\n",
      "\"la condición tiene longitud > 1 y sólo el primer elemento será usado\""
     ]
    },
    {
     "name": "stdout",
     "output_type": "stream",
     "text": [
      "Converting page 1 to acta_1.png..."
     ]
    },
    {
     "name": "stderr",
     "output_type": "stream",
     "text": [
      "PDF error: No display font for 'ArialUnicode'\n"
     ]
    },
    {
     "name": "stdout",
     "output_type": "stream",
     "text": [
      " done!\n",
      "Converting page 2 to acta_2.png... done!\n",
      "[1] \"BOCG: Número 235 de 8 de marzo de 2021 Números de registro del acta: 94538\"\n"
     ]
    },
    {
     "name": "stderr",
     "output_type": "stream",
     "text": [
      "Warning message in if (str_length(txt_acta) < 200) {:\n",
      "\"la condición tiene longitud > 1 y sólo el primer elemento será usado\""
     ]
    },
    {
     "name": "stdout",
     "output_type": "stream",
     "text": [
      "Converting page 1 to acta_1.png..."
     ]
    },
    {
     "name": "stderr",
     "output_type": "stream",
     "text": [
      "PDF error: No display font for 'ArialUnicode'\n"
     ]
    },
    {
     "name": "stdout",
     "output_type": "stream",
     "text": [
      " done!\n",
      "Converting page 2 to acta_2.png... done!\n",
      "[1] \"BOCG: Número 235 de 8 de marzo de 2021 Números de registro del acta: 94539\"\n"
     ]
    },
    {
     "name": "stderr",
     "output_type": "stream",
     "text": [
      "Warning message in if (str_length(txt_acta) < 200) {:\n",
      "\"la condición tiene longitud > 1 y sólo el primer elemento será usado\""
     ]
    },
    {
     "name": "stdout",
     "output_type": "stream",
     "text": [
      "[1] \"BOCG: Número 235 de 8 de marzo de 2021 Números de registro del acta: 94545\"\n",
      "Converting page 1 to acta_1.png..."
     ]
    },
    {
     "name": "stderr",
     "output_type": "stream",
     "text": [
      "PDF error: No display font for 'ArialUnicode'\n"
     ]
    },
    {
     "name": "stdout",
     "output_type": "stream",
     "text": [
      " done!\n"
     ]
    },
    {
     "name": "stderr",
     "output_type": "stream",
     "text": [
      "Warning message in stri_locate_all_regex(string, pattern, omit_no_match = TRUE, :\n",
      "\"argument is not an atomic vector; coercing\"Warning message in stri_sub(string, from = start, to = end):\n",
      "\"argument is not an atomic vector; coercing\""
     ]
    },
    {
     "name": "stdout",
     "output_type": "stream",
     "text": [
      "[1] \"BOCG: Número 235 de 8 de marzo de 2021 Números de registro del acta: 92270\"\n",
      "[1] \"BOCG: Número 235 de 8 de marzo de 2021 Números de registro del acta: 93082\"\n"
     ]
    },
    {
     "name": "stderr",
     "output_type": "stream",
     "text": [
      "Warning message in if (str_length(txt_acta) < 200) {:\n",
      "\"la condición tiene longitud > 1 y sólo el primer elemento será usado\""
     ]
    },
    {
     "name": "stdout",
     "output_type": "stream",
     "text": [
      "[1] \"BOCG: Número 235 de 8 de marzo de 2021 Números de registro del acta: 93083\"\n"
     ]
    },
    {
     "name": "stderr",
     "output_type": "stream",
     "text": [
      "Warning message in if (str_length(txt_acta) < 200) {:\n",
      "\"la condición tiene longitud > 1 y sólo el primer elemento será usado\""
     ]
    },
    {
     "name": "stdout",
     "output_type": "stream",
     "text": [
      "[1] \"BOCG: Número 235 de 8 de marzo de 2021 Números de registro del acta: 92810\"\n",
      "[1] \"BOCG: Número 235 de 8 de marzo de 2021 Números de registro del acta: 91577\"\n"
     ]
    },
    {
     "name": "stderr",
     "output_type": "stream",
     "text": [
      "Warning message in if (str_length(txt_acta) < 200) {:\n",
      "\"la condición tiene longitud > 1 y sólo el primer elemento será usado\""
     ]
    },
    {
     "name": "stdout",
     "output_type": "stream",
     "text": [
      "[1] \"BOCG: Número 235 de 8 de marzo de 2021 Números de registro del acta: 92044\"\n"
     ]
    },
    {
     "name": "stderr",
     "output_type": "stream",
     "text": [
      "Warning message in stri_locate_all_regex(string, pattern, omit_no_match = TRUE, :\n",
      "\"argument is not an atomic vector; coercing\"Warning message in stri_sub(string, from = start, to = end):\n",
      "\"argument is not an atomic vector; coercing\""
     ]
    },
    {
     "name": "stdout",
     "output_type": "stream",
     "text": [
      "[1] \"BOCG: Número 235 de 8 de marzo de 2021 Números de registro del acta: 92884\"\n",
      "[1] \"BOCG: Número 235 de 8 de marzo de 2021 Números de registro del acta: 92227\"\n"
     ]
    },
    {
     "name": "stderr",
     "output_type": "stream",
     "text": [
      "Warning message in if (str_length(txt_acta) < 200) {:\n",
      "\"la condición tiene longitud > 1 y sólo el primer elemento será usado\""
     ]
    },
    {
     "name": "stdout",
     "output_type": "stream",
     "text": [
      "[1] \"BOCG: Número 235 de 8 de marzo de 2021 Números de registro del acta: 92811\"\n",
      "[1] \"BOCG: Número 235 de 8 de marzo de 2021 Números de registro del acta: 92228\"\n",
      "[1] \"BOCG: Número 235 de 8 de marzo de 2021 Números de registro del acta: 92812\"\n",
      "[1] \"BOCG: Número 235 de 8 de marzo de 2021 Números de registro del acta: 92813\"\n",
      "[1] \"BOCG: Número 235 de 8 de marzo de 2021 Números de registro del acta: 92814\"\n"
     ]
    },
    {
     "name": "stderr",
     "output_type": "stream",
     "text": [
      "Warning message in stri_locate_all_regex(string, pattern, omit_no_match = TRUE, :\n",
      "\"argument is not an atomic vector; coercing\"Warning message in stri_sub(string, from = start, to = end):\n",
      "\"argument is not an atomic vector; coercing\""
     ]
    },
    {
     "name": "stdout",
     "output_type": "stream",
     "text": [
      "[1] \"BOCG: Número 235 de 8 de marzo de 2021 Números de registro del acta: 92815\"\n",
      "[1] \"BOCG: Número 235 de 8 de marzo de 2021 Números de registro del acta: 92229\"\n",
      "[1] \"BOCG: Número 235 de 8 de marzo de 2021 Números de registro del acta: 92230\"\n",
      "[1] \"BOCG: Número 235 de 8 de marzo de 2021 Números de registro del acta: 92231\"\n",
      "[1] \"BOCG: Número 235 de 8 de marzo de 2021 Números de registro del acta: 92969\"\n",
      "[1] \"BOCG: Número 235 de 8 de marzo de 2021 Números de registro del acta: 90907\"\n",
      "[1] \"BOCG: Número 235 de 8 de marzo de 2021 Números de registro del acta: 90908\"\n"
     ]
    },
    {
     "name": "stderr",
     "output_type": "stream",
     "text": [
      "Warning message in stri_locate_all_regex(string, pattern, omit_no_match = TRUE, :\n",
      "\"argument is not an atomic vector; coercing\"Warning message in stri_sub(string, from = start, to = end):\n",
      "\"argument is not an atomic vector; coercing\""
     ]
    },
    {
     "name": "stdout",
     "output_type": "stream",
     "text": [
      "[1] \"BOCG: Número 235 de 8 de marzo de 2021 Números de registro del acta: 92768\"\n",
      "[1] \"BOCG: Número 235 de 8 de marzo de 2021 Números de registro del acta: 92769\"\n",
      "[1] \"BOCG: Número 235 de 8 de marzo de 2021 Números de registro del acta: 92770\"\n",
      "[1] \"BOCG: Número 235 de 8 de marzo de 2021 Números de registro del acta: 92771\"\n",
      "[1] \"BOCG: Número 235 de 8 de marzo de 2021 Números de registro del acta: 92772\"\n",
      "[1] \"BOCG: Número 235 de 8 de marzo de 2021 Números de registro del acta: 93112\"\n",
      "[1] \"BOCG: Número 235 de 8 de marzo de 2021 Números de registro del acta: 92816\"\n"
     ]
    },
    {
     "name": "stderr",
     "output_type": "stream",
     "text": [
      "Warning message in stri_locate_all_regex(string, pattern, omit_no_match = TRUE, :\n",
      "\"argument is not an atomic vector; coercing\"Warning message in stri_sub(string, from = start, to = end):\n",
      "\"argument is not an atomic vector; coercing\""
     ]
    },
    {
     "name": "stdout",
     "output_type": "stream",
     "text": [
      "[1] \"BOCG: Número 235 de 8 de marzo de 2021 Números de registro del acta: 92817\"\n",
      "[1] \"BOCG: Número 235 de 8 de marzo de 2021 Números de registro del acta: 90925\"\n"
     ]
    },
    {
     "name": "stderr",
     "output_type": "stream",
     "text": [
      "Warning message in if (str_length(txt_acta) < 200) {:\n",
      "\"la condición tiene longitud > 1 y sólo el primer elemento será usado\""
     ]
    },
    {
     "name": "stdout",
     "output_type": "stream",
     "text": [
      "[1] \"BOCG: Número 235 de 8 de marzo de 2021 Números de registro del acta: 92130\"\n",
      "[1] \"BOCG: Número 235 de 8 de marzo de 2021 Números de registro del acta: 93094\"\n",
      "[1] \"BOCG: Número 235 de 8 de marzo de 2021 Números de registro del acta: 93095\"\n",
      "[1] \"BOCG: Número 235 de 8 de marzo de 2021 Números de registro del acta: 92073\"\n",
      "[1] \"BOCG: Número 235 de 8 de marzo de 2021 Números de registro del acta: 90926\"\n"
     ]
    },
    {
     "name": "stderr",
     "output_type": "stream",
     "text": [
      "Warning message in if (str_length(txt_acta) < 200) {:\n",
      "\"la condición tiene longitud > 1 y sólo el primer elemento será usado\""
     ]
    },
    {
     "name": "stdout",
     "output_type": "stream",
     "text": [
      "[1] \"BOCG: Número 235 de 8 de marzo de 2021 Números de registro del acta: 93096\"\n"
     ]
    },
    {
     "name": "stderr",
     "output_type": "stream",
     "text": [
      "Warning message in stri_locate_all_regex(string, pattern, omit_no_match = TRUE, :\n",
      "\"argument is not an atomic vector; coercing\"Warning message in stri_sub(string, from = start, to = end):\n",
      "\"argument is not an atomic vector; coercing\""
     ]
    },
    {
     "name": "stdout",
     "output_type": "stream",
     "text": [
      "[1] \"BOCG: Número 235 de 8 de marzo de 2021 Números de registro del acta: 92818\"\n",
      "[1] \"BOCG: Número 235 de 8 de marzo de 2021 Números de registro del acta: 92819\"\n",
      "[1] \"BOCG: Número 235 de 8 de marzo de 2021 Números de registro del acta: 92820\"\n",
      "[1] \"BOCG: Número 235 de 8 de marzo de 2021 Números de registro del acta: 92821\"\n",
      "[1] \"BOCG: Número 235 de 8 de marzo de 2021 Números de registro del acta: 92110\"\n",
      "[1] \"BOCG: Número 235 de 8 de marzo de 2021 Números de registro del acta: 92111\"\n",
      "[1] \"BOCG: Número 235 de 8 de marzo de 2021 Números de registro del acta: 92112\"\n"
     ]
    },
    {
     "name": "stderr",
     "output_type": "stream",
     "text": [
      "Warning message in stri_locate_all_regex(string, pattern, omit_no_match = TRUE, :\n",
      "\"argument is not an atomic vector; coercing\"Warning message in stri_sub(string, from = start, to = end):\n",
      "\"argument is not an atomic vector; coercing\""
     ]
    },
    {
     "name": "stdout",
     "output_type": "stream",
     "text": [
      "[1] \"BOCG: Número 235 de 8 de marzo de 2021 Números de registro del acta: 91244\"\n",
      "Converting page 1 to acta_1.png..."
     ]
    },
    {
     "name": "stderr",
     "output_type": "stream",
     "text": [
      "PDF error: No display font for 'ArialUnicode'\n"
     ]
    },
    {
     "name": "stdout",
     "output_type": "stream",
     "text": [
      " done!\n",
      "[1] \"BOCG: Número 235 de 8 de marzo de 2021 Números de registro del acta: 91245\"\n",
      "Converting page 1 to acta_1.png..."
     ]
    },
    {
     "name": "stderr",
     "output_type": "stream",
     "text": [
      "PDF error: No display font for 'ArialUnicode'\n"
     ]
    },
    {
     "name": "stdout",
     "output_type": "stream",
     "text": [
      " done!\n",
      "[1] \"BOCG: Número 235 de 8 de marzo de 2021 Números de registro del acta: 91246\"\n",
      "Converting page 1 to acta_1.png..."
     ]
    },
    {
     "name": "stderr",
     "output_type": "stream",
     "text": [
      "PDF error: No display font for 'ArialUnicode'\n"
     ]
    },
    {
     "name": "stdout",
     "output_type": "stream",
     "text": [
      " done!\n",
      "[1] \"BOCG: Número 235 de 8 de marzo de 2021 Números de registro del acta: 91247\"\n",
      "Converting page 1 to acta_1.png..."
     ]
    },
    {
     "name": "stderr",
     "output_type": "stream",
     "text": [
      "PDF error: No display font for 'ArialUnicode'\n"
     ]
    },
    {
     "name": "stdout",
     "output_type": "stream",
     "text": [
      " done!\n",
      "[1] \"BOCG: Número 235 de 8 de marzo de 2021 Números de registro del acta: 91248\"\n",
      "Converting page 1 to acta_1.png..."
     ]
    },
    {
     "name": "stderr",
     "output_type": "stream",
     "text": [
      "PDF error: No display font for 'ArialUnicode'\n"
     ]
    },
    {
     "name": "stdout",
     "output_type": "stream",
     "text": [
      " done!\n"
     ]
    }
   ],
   "source": [
    "# Número de registro de cada una de las actas contenidas en el BOCG\n",
    "l <- length(bocg[[1]][[1]]) #corresponde con el BOCG de la lista anterior\n",
    "for (k in 4:l){\n",
    "    reg <- str_extract_all(bocg[[1]][[1]][k],\"reg.......\")\n",
    "    num_loc <- str_locate_all(reg, \"[0-9]+\")[[1]]\n",
    "    num_reg <- str_sub(reg, num_loc[, \"start\"], num_loc[, \"end\"])\n",
    "\n",
    "    # Para cada acta incluida en el BOCG\n",
    "    for (j in num_reg){\n",
    "        # Mostramos los números de registro para cada BOCG\n",
    "        print(paste0(\"BOCG: \",bocg[[1]][[1]][3],\" Números de registro del acta: \",j))\n",
    "        num <- str_pad(j, 7, pad = \"0\")\n",
    "\n",
    "        # url del acta\n",
    "        #for (h in 0:10){\n",
    "        acta <- paste0(\"https://www.congreso.es/entradap/l\",bocg[[1]][[1]][1],\"p/e\",9,\"/e_\",num,\"_n_000.pdf\")\n",
    "        pdf <- 200 # Longitud mínima del texto del acta\n",
    "\n",
    "        # Descargamos el acta\n",
    "        try(pdf <- download.file(acta, \"acta.pdf\", mode = \"wb\"),silent=TRUE)\n",
    "\n",
    "        if (pdf == 0){\n",
    "          # Extraemos el author, version, etc\n",
    "          info_acta <- pdf_info(\"acta.pdf\")\n",
    "\n",
    "          # Extraemos el texto del acta\n",
    "          txt_acta <- pdf_text(\"acta.pdf\")\n",
    "\n",
    "\n",
    "          ##################################################################################\n",
    "          # Separamos las actas con imagenes de las que son texto y las guardamos en un txt\n",
    "          ##################################################################################\n",
    "\n",
    "          # Si las actas son imágenes, extraemos el texto de la imagen \n",
    "          if(str_length(txt_acta) < 200){\n",
    "            pdf_ocr <- pdf_ocr_text(\"acta.pdf\")\n",
    "\n",
    "            # Comprobamos si existen actas con los criterios de búsqueda\n",
    "            resul_acta1 <- stringr::str_subset(pdf_ocr, criterio1)\n",
    "            resul_acta2 <- stringr::str_subset(pdf_ocr, criterio2)\n",
    "            resul_acta3 <- stringr::str_subset(pdf_ocr, criterio3)\n",
    "\n",
    "            # Si existen actas con los criterios búsqueda Guardamos el texto en un txt\n",
    "            if (length(resul_acta1) | length(resul_acta2) | length(resul_acta3) > 0){\n",
    "                # Guardamos el texto en un txt\n",
    "                write.table(x = pdf_ocr, file = paste0(\"./ouput/acta\",j,\".txt\"), )\n",
    "            }\n",
    "            # Si las actas son texto, extraemos el texto\n",
    "          } \n",
    "          else{\n",
    "            # Comprobamos si existen actas con los criterios de búsqueda\n",
    "            resul_acta1 <- stringr::str_subset(txt_acta, criterio1)\n",
    "            resul_acta2 <- stringr::str_subset(txt_acta, criterio2)\n",
    "            resul_acta3 <- stringr::str_subset(txt_acta, criterio3)\n",
    "\n",
    "\n",
    "            # Si existen actas con los criterios búsqueda Guardamos el texto en un txt\n",
    "            if (length(resul_acta1) | length(resul_acta2) | length(resul_acta3) > 0){\n",
    "                write.table(x = pdf_ocr[[i]], file = paste0(\"./ouput/acta\",j,\".txt\"), )\n",
    "            }\n",
    "          } \n",
    "          ##################################################################################\n",
    "        }\n",
    "      }\n",
    "}"
   ]
  },
  {
   "cell_type": "code",
   "execution_count": null,
   "id": "surprising-morris",
   "metadata": {},
   "outputs": [],
   "source": [
    "bocg[[1]]"
   ]
  },
  {
   "cell_type": "markdown",
   "id": "dense-vertical",
   "metadata": {},
   "source": [
    "## Extracción de las actas"
   ]
  },
  {
   "cell_type": "markdown",
   "id": "sunset-pottery",
   "metadata": {},
   "source": [
    "### Inicialización de parámetros"
   ]
  },
  {
   "cell_type": "markdown",
   "id": "contained-montgomery",
   "metadata": {},
   "source": [
    "Ponemos a cero las variables donde vamos a almacenar los resultados."
   ]
  },
  {
   "cell_type": "code",
   "execution_count": null,
   "id": "sustained-hazard",
   "metadata": {},
   "outputs": [],
   "source": [
    "num_reg <- list() # Lista que almacena el número de registro del acta contenida en el BOCG\n",
    "txt_acta <- list() # Lista que almacena el texto del acta"
   ]
  },
  {
   "cell_type": "markdown",
   "id": "straight-input",
   "metadata": {},
   "source": [
    "### Iteración por las actas del BOCG seleccionado"
   ]
  },
  {
   "cell_type": "markdown",
   "id": "monthly-brooklyn",
   "metadata": {},
   "source": [
    "Recorremos las actas de cada una de las páginas del BOCG seleccionado y nos quedamos con las actas que contienen alguno de los criterios de búsqueda."
   ]
  },
  {
   "cell_type": "code",
   "execution_count": null,
   "id": "unable-fiber",
   "metadata": {},
   "outputs": [],
   "source": [
    "# Para cada BOCG en las lista \"bocg\"\n",
    "for (m in 1:length(bocg)){\n",
    "  \n",
    "  # Número de registro de cada una de las actas contenidas en el BOCG\n",
    "  l <- length(bocg[[m]][[1]])\n",
    "  for (k in 4:l){\n",
    "    reg <- str_extract_all(bocg[[m]][[1]][k],\"reg.......\")\n",
    "    \n",
    "    num_loc <- str_locate_all(reg, \"[0-9]+\")[[1]]\n",
    "    num_reg <- str_sub(reg, num_loc[, \"start\"], num_loc[, \"end\"])\n",
    "    \n",
    "    # Para cada acta incluida en el BOCG\n",
    "    for (j in num_reg){\n",
    "      # Mostramos los números de registro para cada BOCG\n",
    "      print(paste0(\"BOCG: \",bocg[[m]][[1]][3],\" Números de registro del acta: \",j))\n",
    "      num <- str_pad(j, 7, pad = \"0\")\n",
    "      \n",
    "      # url del acta\n",
    "      for (h in 0:10){\n",
    "        acta <- paste0(\"https://www.congreso.es/entradap/l\",bocg[[m]][[1]][1],\"p/e\",h,\"/e_\",num,\"_n_000.pdf\")\n",
    "        pdf <- 200\n",
    "        \n",
    "        # Descargamos el acta\n",
    "        try(pdf <- download.file(acta, \"acta.pdf\", mode = \"wb\"),silent=TRUE)\n",
    "        \n",
    "        if (pdf == 0){\n",
    "          # Extraemos el author, version, etc\n",
    "          info_acta <- pdf_info(\"acta.pdf\")\n",
    "          \n",
    "          # Extraemos el texto del acta\n",
    "          txt_acta <- pdf_text(\"acta.pdf\")\n",
    "          \n",
    "          \n",
    "          # Si las actas son imágenes, extraemos el texto de la imagen \n",
    "          if(str_length(txt_acta) < 200){\n",
    "            pdf_ocr <- pdf_ocr_text(\"acta.pdf\")\n",
    "            \n",
    "            # Comprobamos si existen actas con los criterios de búsqueda\n",
    "            resul_acta1 <- stringr::str_subset(pdf_ocr, criterio1)\n",
    "            resul_acta2 <- stringr::str_subset(pdf_ocr, criterio2)\n",
    "            resul_acta3 <- stringr::str_subset(pdf_ocr, criterio3)\n",
    "            \n",
    "            # Si existen actas con los criterios búsqueda Guardamos el texto en un txt\n",
    "            if (length(resul_acta1) | length(resul_acta2) | length(resul_acta3) > 0){\n",
    "              # Guardamos el texto en un txt\n",
    "              write.table(x = pdf_ocr, file = paste0(\"./ouput/acta\",j,\".txt\"), )\n",
    "            }\n",
    "            # Si las actas son texto, extraemos el texto\n",
    "          } else{\n",
    "            # Comprobamos si existen actas con los criterios de búsqueda\n",
    "            resul_acta1 <- stringr::str_subset(txt_acta, criterio1)\n",
    "            resul_acta2 <- stringr::str_subset(txt_acta, criterio2)\n",
    "            resul_acta3 <- stringr::str_subset(txt_acta, criterio3)\n",
    "            \n",
    "            # Si existen actas con los criterios búsqueda Guardamos el texto en un txt\n",
    "            if (length(resul_acta1) | length(resul_acta2) | length(resul_acta3) > 0){\n",
    "              write.table(x = pdf_ocr[[i]], file = paste0(\"./ouput/acta\",j,\".txt\"), )\n",
    "            }\n",
    "          } \n",
    "        }\n",
    "      }  \n",
    "    }\n",
    "  }\n",
    "}"
   ]
  }
 ],
 "metadata": {
  "kernelspec": {
   "display_name": "R",
   "language": "R",
   "name": "ir"
  },
  "language_info": {
   "codemirror_mode": "r",
   "file_extension": ".r",
   "mimetype": "text/x-r-source",
   "name": "R",
   "pygments_lexer": "r",
   "version": "3.6.1"
  }
 },
 "nbformat": 4,
 "nbformat_minor": 5
}
