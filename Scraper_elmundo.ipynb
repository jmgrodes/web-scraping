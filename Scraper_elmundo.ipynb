{
 "cells": [
  {
   "cell_type": "markdown",
   "id": "separate-accent",
   "metadata": {},
   "source": [
    "# WEB SCRAPING NOTICIAS DIARIO EL MUNDO"
   ]
  },
  {
   "cell_type": "markdown",
   "id": "animated-comparison",
   "metadata": {},
   "source": [
    "#### Instalamos la librerias necesarias si no las tenemos instaladas previamente, para ello descomentamos borrando \"**#**\"."
   ]
  },
  {
   "cell_type": "code",
   "execution_count": 1,
   "id": "upper-acquisition",
   "metadata": {},
   "outputs": [],
   "source": [
    "#!pip install requests\n",
    "#!pip install BeautifulSoup\n",
    "#!pip install pandas"
   ]
  },
  {
   "cell_type": "markdown",
   "id": "breathing-typing",
   "metadata": {},
   "source": [
    "#### Importamos las librerias que vamos a utilizar."
   ]
  },
  {
   "cell_type": "code",
   "execution_count": 2,
   "id": "uniform-honduras",
   "metadata": {},
   "outputs": [],
   "source": [
    "import requests\n",
    "from bs4 import BeautifulSoup\n",
    "import pandas as pd"
   ]
  },
  {
   "cell_type": "markdown",
   "id": "flying-stockholm",
   "metadata": {},
   "source": [
    "#### Parámetros de búsqueda."
   ]
  },
  {
   "cell_type": "code",
   "execution_count": 3,
   "id": "bronze-zimbabwe",
   "metadata": {},
   "outputs": [],
   "source": [
    "anyo = 2021 # Año de búsqueda\n",
    "mes = 1 # Mes hasta el que queremos buscar\n",
    "busqueda1 = \"Alicante\"\n",
    "busqueda2 = \"turismo\""
   ]
  },
  {
   "cell_type": "markdown",
   "id": "durable-watts",
   "metadata": {},
   "source": [
    "#### Extraemos los titulares para el año seleccionado anteriormente y hasta el més elegido, con los criterios de búsqueda."
   ]
  },
  {
   "cell_type": "code",
   "execution_count": 4,
   "id": "closed-invalid",
   "metadata": {},
   "outputs": [
    {
     "name": "stdout",
     "output_type": "stream",
     "text": [
      "Año: 2021; Mes: 1; Día: 1;\n",
      " URL: https://www.elmundo.es/elmundo/hemeroteca/2021/01/01/m/index.html\n",
      "Año: 2021; Mes: 1; Día: 2;\n",
      " URL: https://www.elmundo.es/elmundo/hemeroteca/2021/01/02/m/index.html\n",
      "Año: 2021; Mes: 1; Día: 3;\n",
      " URL: https://www.elmundo.es/elmundo/hemeroteca/2021/01/03/m/index.html\n",
      "Año: 2021; Mes: 1; Día: 4;\n",
      " URL: https://www.elmundo.es/elmundo/hemeroteca/2021/01/04/m/index.html\n",
      "Año: 2021; Mes: 1; Día: 5;\n",
      " URL: https://www.elmundo.es/elmundo/hemeroteca/2021/01/05/m/index.html\n",
      "Año: 2021; Mes: 1; Día: 6;\n",
      " URL: https://www.elmundo.es/elmundo/hemeroteca/2021/01/06/m/index.html\n",
      "Año: 2021; Mes: 1; Día: 7;\n",
      " URL: https://www.elmundo.es/elmundo/hemeroteca/2021/01/07/m/index.html\n",
      "Año: 2021; Mes: 1; Día: 8;\n",
      " URL: https://www.elmundo.es/elmundo/hemeroteca/2021/01/08/m/index.html\n",
      "Año: 2021; Mes: 1; Día: 9;\n",
      " URL: https://www.elmundo.es/elmundo/hemeroteca/2021/01/09/m/index.html\n",
      "Año: 2021; Mes: 1; Día: 10;\n",
      " URL: https://www.elmundo.es/elmundo/hemeroteca/2021/01/10/m/index.html\n",
      "Año: 2021; Mes: 1; Día: 11;\n",
      " URL: https://www.elmundo.es/elmundo/hemeroteca/2021/01/11/m/index.html\n",
      "Año: 2021; Mes: 1; Día: 12;\n",
      " URL: https://www.elmundo.es/elmundo/hemeroteca/2021/01/12/m/index.html\n",
      "Año: 2021; Mes: 1; Día: 13;\n",
      " URL: https://www.elmundo.es/elmundo/hemeroteca/2021/01/13/m/index.html\n",
      "Año: 2021; Mes: 1; Día: 14;\n",
      " URL: https://www.elmundo.es/elmundo/hemeroteca/2021/01/14/m/index.html\n",
      "Año: 2021; Mes: 1; Día: 15;\n",
      " URL: https://www.elmundo.es/elmundo/hemeroteca/2021/01/15/m/index.html\n",
      "Año: 2021; Mes: 1; Día: 16;\n",
      " URL: https://www.elmundo.es/elmundo/hemeroteca/2021/01/16/m/index.html\n",
      "Año: 2021; Mes: 1; Día: 17;\n",
      " URL: https://www.elmundo.es/elmundo/hemeroteca/2021/01/17/m/index.html\n",
      "Año: 2021; Mes: 1; Día: 18;\n",
      " URL: https://www.elmundo.es/elmundo/hemeroteca/2021/01/18/m/index.html\n",
      "Año: 2021; Mes: 1; Día: 19;\n",
      " URL: https://www.elmundo.es/elmundo/hemeroteca/2021/01/19/m/index.html\n",
      "Año: 2021; Mes: 1; Día: 20;\n",
      " URL: https://www.elmundo.es/elmundo/hemeroteca/2021/01/20/m/index.html\n",
      "Año: 2021; Mes: 1; Día: 21;\n",
      " URL: https://www.elmundo.es/elmundo/hemeroteca/2021/01/21/m/index.html\n",
      "Año: 2021; Mes: 1; Día: 22;\n",
      " URL: https://www.elmundo.es/elmundo/hemeroteca/2021/01/22/m/index.html\n",
      "Año: 2021; Mes: 1; Día: 23;\n",
      " URL: https://www.elmundo.es/elmundo/hemeroteca/2021/01/23/m/index.html\n",
      "Año: 2021; Mes: 1; Día: 24;\n",
      " URL: https://www.elmundo.es/elmundo/hemeroteca/2021/01/24/m/index.html\n",
      "Año: 2021; Mes: 1; Día: 25;\n",
      " URL: https://www.elmundo.es/elmundo/hemeroteca/2021/01/25/m/index.html\n",
      "Año: 2021; Mes: 1; Día: 26;\n",
      " URL: https://www.elmundo.es/elmundo/hemeroteca/2021/01/26/m/index.html\n",
      "Año: 2021; Mes: 1; Día: 27;\n",
      " URL: https://www.elmundo.es/elmundo/hemeroteca/2021/01/27/m/index.html\n",
      "Año: 2021; Mes: 1; Día: 28;\n",
      " URL: https://www.elmundo.es/elmundo/hemeroteca/2021/01/28/m/index.html\n",
      "Año: 2021; Mes: 1; Día: 29;\n",
      " URL: https://www.elmundo.es/elmundo/hemeroteca/2021/01/29/m/index.html\n",
      "Año: 2021; Mes: 1; Día: 30;\n",
      " URL: https://www.elmundo.es/elmundo/hemeroteca/2021/01/30/m/index.html\n",
      "Año: 2021; Mes: 1; Día: 31;\n",
      " URL: https://www.elmundo.es/elmundo/hemeroteca/2021/01/31/m/index.html\n"
     ]
    }
   ],
   "source": [
    "data_list=[] #inicializamos la lista que va a contener los titulares\n",
    "\n",
    "# Para cada año, mes y día de publicación del diario     \n",
    "for mes in range(mes):\n",
    "    for dia in range(31):  \n",
    "        if mes < 9 and dia < 9:\n",
    "            url_link_sec='https://www.elmundo.es/elmundo/hemeroteca/'+str(anyo)+'/0'+str(mes+1)+'/0'+str(dia+1)+'/m/index.html'\n",
    "        elif mes > 8 and dia < 9:\n",
    "            url_link_sec='https://www.elmundo.es/elmundo/hemeroteca/'+str(anyo)+'/'+str(mes+1)+'/0'+str(dia+1)+'/m/index.html'\n",
    "        elif mes < 9 and dia > 8:\n",
    "            url_link_sec='https://www.elmundo.es/elmundo/hemeroteca/'+str(anyo)+'/0'+str(mes+1)+'/'+str(dia+1)+'/m/index.html'\n",
    "        else:\n",
    "            url_link_sec='https://www.elmundo.es/elmundo/hemeroteca/'+str(anyo)+'/'+str(mes+1)+'/'+str(dia+1)+'/m/index.html'\n",
    "     \n",
    "        req = None\n",
    "        try:    \n",
    "            print ('Año: {}; Mes: {}; Día: {};\\n URL: {}'.format(anyo, mes+1, dia+1, url_link_sec))\n",
    "            \n",
    "            # Extraemos el html de la url como un objeto BeautifulSup\n",
    "            req = requests.get(url = url_link_sec)          \n",
    "            soup = BeautifulSoup(req.text, \"lxml\")\n",
    "            \n",
    "            # Inicialización de variables\n",
    "            titular=[]\n",
    "            url_noticia = []\n",
    "            diario = []\n",
    "            diario.append('elmundo')\n",
    "            #url_sec_list = []\n",
    "            #url_sec_list.append(url_link_sec)\n",
    "            \n",
    "            # Extraemos las url's de las noticias\n",
    "            url_tag=soup.findAll('a',attrs={'class': 'ue-c-cover-content__link'})\n",
    "            for link in url_tag:\n",
    "                url_noticia.append(link.get('href'))\n",
    "            \n",
    "            # Extraemos los titulares de las noticias\n",
    "            titular_tag=soup.findAll('h2',attrs={'class': 'ue-c-cover-content__headline'})\n",
    "            \n",
    "            # Para cada titular comprobamos si contine los criterios de búsqueda\n",
    "            for i in range(len(titular_tag)):\n",
    "                cadena = BeautifulSoup(str(titular_tag[i])).text \n",
    "                if (busqueda1 in cadena or busqueda1 in cadena):\n",
    "                    # Si se dan los criterios de busqueda los almacenamos en la lista \"data_list\"\n",
    "                    titular.append(cadena)\n",
    "                    data_list.append(diario + [str(anyo)] + [str(mes+1)] + [str(dia+1)] + [url_noticia[i]] + titular)\n",
    "                    \n",
    "        except:\n",
    "            print ('No existe la página')"
   ]
  },
  {
   "cell_type": "markdown",
   "id": "regulated-wonder",
   "metadata": {},
   "source": [
    "#### Una vez recorridos todos los diarios para las fechas seleccionadas, guardamos en un archivo excel los resultados de las búsquedas."
   ]
  },
  {
   "cell_type": "code",
   "execution_count": 7,
   "id": "compliant-mouse",
   "metadata": {},
   "outputs": [],
   "source": [
    "df_noticias = pd.DataFrame(data_list)\n",
    "df_noticias.columns = ['Diario', 'Año','Mes', 'Día', 'Web', 'Titular']\n",
    "# Creo un excel con los titulares\n",
    "pd.DataFrame(df_noticias).to_excel('noticias_elmundo.xlsx', encoding='utf-8-sig')"
   ]
  },
  {
   "cell_type": "markdown",
   "id": "signed-symphony",
   "metadata": {},
   "source": [
    "#### Mostramos como queda el dataframe."
   ]
  },
  {
   "cell_type": "code",
   "execution_count": 8,
   "id": "threaded-petroleum",
   "metadata": {},
   "outputs": [
    {
     "data": {
      "text/html": [
       "<div>\n",
       "<style scoped>\n",
       "    .dataframe tbody tr th:only-of-type {\n",
       "        vertical-align: middle;\n",
       "    }\n",
       "\n",
       "    .dataframe tbody tr th {\n",
       "        vertical-align: top;\n",
       "    }\n",
       "\n",
       "    .dataframe thead th {\n",
       "        text-align: right;\n",
       "    }\n",
       "</style>\n",
       "<table border=\"1\" class=\"dataframe\">\n",
       "  <thead>\n",
       "    <tr style=\"text-align: right;\">\n",
       "      <th></th>\n",
       "      <th>Diario</th>\n",
       "      <th>Año</th>\n",
       "      <th>Mes</th>\n",
       "      <th>Día</th>\n",
       "      <th>Web</th>\n",
       "      <th>Titular</th>\n",
       "    </tr>\n",
       "  </thead>\n",
       "  <tbody>\n",
       "    <tr>\n",
       "      <th>0</th>\n",
       "      <td>elmundo</td>\n",
       "      <td>2021</td>\n",
       "      <td>1</td>\n",
       "      <td>4</td>\n",
       "      <td>https://www.elmundo.es/loc/2021/01/03/5ff21357...</td>\n",
       "      <td>Una fotografía muestra el deterioro físico de ...</td>\n",
       "    </tr>\n",
       "    <tr>\n",
       "      <th>1</th>\n",
       "      <td>elmundo</td>\n",
       "      <td>2021</td>\n",
       "      <td>1</td>\n",
       "      <td>5</td>\n",
       "      <td>https://www.elmundo.es/loc/casa-real/2021/01/0...</td>\n",
       "      <td>Muertes, accidentes y ahora soledad: los cumpl...</td>\n",
       "    </tr>\n",
       "    <tr>\n",
       "      <th>2</th>\n",
       "      <td>elmundo</td>\n",
       "      <td>2021</td>\n",
       "      <td>1</td>\n",
       "      <td>6</td>\n",
       "      <td>https://www.elmundo.es/opinion/columnistas/202...</td>\n",
       "      <td>Injusto acoso a Don Juan Carlos</td>\n",
       "    </tr>\n",
       "    <tr>\n",
       "      <th>3</th>\n",
       "      <td>elmundo</td>\n",
       "      <td>2021</td>\n",
       "      <td>1</td>\n",
       "      <td>13</td>\n",
       "      <td>https://www.elmundo.es/espana/2021/01/13/5ffec...</td>\n",
       "      <td>Podemos carga contra la ministra de Defensa tr...</td>\n",
       "    </tr>\n",
       "    <tr>\n",
       "      <th>4</th>\n",
       "      <td>elmundo</td>\n",
       "      <td>2021</td>\n",
       "      <td>1</td>\n",
       "      <td>14</td>\n",
       "      <td>https://www.elmundo.es/espana/2021/01/13/5fff3...</td>\n",
       "      <td>Cerco a Juan Carlos I en Suiza</td>\n",
       "    </tr>\n",
       "    <tr>\n",
       "      <th>5</th>\n",
       "      <td>elmundo</td>\n",
       "      <td>2021</td>\n",
       "      <td>1</td>\n",
       "      <td>19</td>\n",
       "      <td>https://www.elmundo.es/espana/2021/01/18/6005c...</td>\n",
       "      <td>La Fiscalía recaba de la Comunidad la regulari...</td>\n",
       "    </tr>\n",
       "    <tr>\n",
       "      <th>6</th>\n",
       "      <td>elmundo</td>\n",
       "      <td>2021</td>\n",
       "      <td>1</td>\n",
       "      <td>23</td>\n",
       "      <td>https://www.elmundo.es/economia/empresas/2021/...</td>\n",
       "      <td>Felipe VI y el Rey Padre: \"Juan Carlos sabe qu...</td>\n",
       "    </tr>\n",
       "    <tr>\n",
       "      <th>7</th>\n",
       "      <td>elmundo</td>\n",
       "      <td>2021</td>\n",
       "      <td>1</td>\n",
       "      <td>27</td>\n",
       "      <td>https://www.elmundo.es/loc/casa-real/2021/01/2...</td>\n",
       "      <td>¿Qué ha hecho Felipe VI con los 161.000 euros ...</td>\n",
       "    </tr>\n",
       "    <tr>\n",
       "      <th>8</th>\n",
       "      <td>elmundo</td>\n",
       "      <td>2021</td>\n",
       "      <td>1</td>\n",
       "      <td>30</td>\n",
       "      <td>https://www.elmundo.es/loc/casa-real/2021/01/3...</td>\n",
       "      <td>40 años de la dimisión de Adolfo Suárez que ca...</td>\n",
       "    </tr>\n",
       "  </tbody>\n",
       "</table>\n",
       "</div>"
      ],
      "text/plain": [
       "    Diario   Año Mes Día                                                Web  \\\n",
       "0  elmundo  2021   1   4  https://www.elmundo.es/loc/2021/01/03/5ff21357...   \n",
       "1  elmundo  2021   1   5  https://www.elmundo.es/loc/casa-real/2021/01/0...   \n",
       "2  elmundo  2021   1   6  https://www.elmundo.es/opinion/columnistas/202...   \n",
       "3  elmundo  2021   1  13  https://www.elmundo.es/espana/2021/01/13/5ffec...   \n",
       "4  elmundo  2021   1  14  https://www.elmundo.es/espana/2021/01/13/5fff3...   \n",
       "5  elmundo  2021   1  19  https://www.elmundo.es/espana/2021/01/18/6005c...   \n",
       "6  elmundo  2021   1  23  https://www.elmundo.es/economia/empresas/2021/...   \n",
       "7  elmundo  2021   1  27  https://www.elmundo.es/loc/casa-real/2021/01/2...   \n",
       "8  elmundo  2021   1  30  https://www.elmundo.es/loc/casa-real/2021/01/3...   \n",
       "\n",
       "                                             Titular  \n",
       "0  Una fotografía muestra el deterioro físico de ...  \n",
       "1  Muertes, accidentes y ahora soledad: los cumpl...  \n",
       "2                    Injusto acoso a Don Juan Carlos  \n",
       "3  Podemos carga contra la ministra de Defensa tr...  \n",
       "4                     Cerco a Juan Carlos I en Suiza  \n",
       "5  La Fiscalía recaba de la Comunidad la regulari...  \n",
       "6  Felipe VI y el Rey Padre: \"Juan Carlos sabe qu...  \n",
       "7  ¿Qué ha hecho Felipe VI con los 161.000 euros ...  \n",
       "8  40 años de la dimisión de Adolfo Suárez que ca...  "
      ]
     },
     "execution_count": 8,
     "metadata": {},
     "output_type": "execute_result"
    }
   ],
   "source": [
    "df_noticias"
   ]
  },
  {
   "cell_type": "code",
   "execution_count": null,
   "id": "whole-battlefield",
   "metadata": {},
   "outputs": [],
   "source": []
  }
 ],
 "metadata": {
  "kernelspec": {
   "display_name": "Python 3",
   "language": "python",
   "name": "python3"
  },
  "language_info": {
   "codemirror_mode": {
    "name": "ipython",
    "version": 3
   },
   "file_extension": ".py",
   "mimetype": "text/x-python",
   "name": "python",
   "nbconvert_exporter": "python",
   "pygments_lexer": "ipython3",
   "version": "3.7.4"
  }
 },
 "nbformat": 4,
 "nbformat_minor": 5
}
