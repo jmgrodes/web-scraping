{
 "cells": [
  {
   "cell_type": "markdown",
   "metadata": {},
   "source": [
    "# SCRAPER Twitter"
   ]
  },
  {
   "cell_type": "code",
   "execution_count": 1,
   "metadata": {},
   "outputs": [],
   "source": [
    "#!pip install tweepy\n",
    "#!pip install pandas"
   ]
  },
  {
   "cell_type": "code",
   "execution_count": 2,
   "metadata": {
    "colab": {},
    "colab_type": "code",
    "id": "FaNQ9N8HOAa8"
   },
   "outputs": [],
   "source": [
    "import tweepy\n",
    "import pandas as pd"
   ]
  },
  {
   "cell_type": "code",
   "execution_count": 0,
   "metadata": {
    "colab": {},
    "colab_type": "code",
    "id": "p7TGs4PEM4-9"
   },
   "outputs": [],
   "source": [
    "# Variables that contains the credentials to access Twitter API\n",
    "ACCESS_TOKEN = ''\n",
    "ACCESS_SECRET = ''\n",
    "CONSUMER_KEY = ''\n",
    "CONSUMER_SECRET = ''\n",
    "\n",
    "\n",
    "# Setup access to API\n",
    "def connect_to_twitter_OAuth():\n",
    "    auth = tweepy.OAuthHandler(CONSUMER_KEY, CONSUMER_SECRET)\n",
    "    auth.set_access_token(ACCESS_TOKEN, ACCESS_SECRET)\n",
    "\n",
    "    api = tweepy.API(auth)\n",
    "    return api\n",
    "\n",
    "\n",
    "# Create API object\n",
    "api = connect_to_twitter_OAuth()"
   ]
  },
  {
   "cell_type": "code",
   "execution_count": 0,
   "metadata": {
    "colab": {},
    "colab_type": "code",
    "id": "zdfb5HqJNiGG"
   },
   "outputs": [],
   "source": [
    "# fuction to extract data from tweet object\n",
    "def extract_tweet_attributes(tweet_object):\n",
    "    # create empty list\n",
    "    tweet_list =[]\n",
    "    # loop through tweet objects\n",
    "    for tweet in tweet_object:\n",
    "        tweet_id = tweet.id # unique integer identifier for tweet\n",
    "        text = tweet.text # utf-8 text of tweet\n",
    "        favorite_count = tweet.favorite_count\n",
    "        retweet_count = tweet.retweet_count\n",
    "        created_at = tweet.created_at # utc time tweet created\n",
    "        source = tweet.source # utility used to post tweet\n",
    "        reply_to_status = tweet.in_reply_to_status_id # if reply int of orginal tweet id\n",
    "        reply_to_user = tweet.in_reply_to_screen_name # if reply original tweetes screenname\n",
    "        retweets = tweet.retweet_count # number of times this tweet retweeted\n",
    "        favorites = tweet.favorite_count # number of time this tweet liked\n",
    "        # append attributes to list\n",
    "        tweet_list.append({'tweet_id':tweet_id, \n",
    "                          'text':text, \n",
    "                          'favorite_count':favorite_count,\n",
    "                          'retweet_count':retweet_count,\n",
    "                          'created_at':created_at, \n",
    "                          'source':source, \n",
    "                          'reply_to_status':reply_to_status, \n",
    "                          'reply_to_user':reply_to_user,\n",
    "                          'retweets':retweets,\n",
    "                          'favorites':favorites})\n",
    "    # create dataframe   \n",
    "    df = pd.DataFrame(tweet_list, columns=['tweet_id',\n",
    "                                           'text',\n",
    "                                           'favorite_count',\n",
    "                                           'retweet_count',\n",
    "                                           'created_at',\n",
    "                                           'source',\n",
    "                                           'reply_to_status',\n",
    "                                           'reply_to_user',\n",
    "                                           'retweets',\n",
    "                                           'favorites'])\n",
    "    return df\n",
    "\n",
    "\n",
    "df = extract_tweet_attributes(trump_tweets)"
   ]
  },
  {
   "cell_type": "code",
   "execution_count": 0,
   "metadata": {
    "colab": {},
    "colab_type": "code",
    "id": "LXoBU43mOHGT"
   },
   "outputs": [],
   "source": [
    "# calling function to get tweets \n",
    "tweets = api.search(q = 'Donald Trump', count = 10)"
   ]
  },
  {
   "cell_type": "code",
   "execution_count": 0,
   "metadata": {
    "colab": {
     "base_uri": "https://localhost:8080/",
     "height": 346
    },
    "colab_type": "code",
    "executionInfo": {
     "elapsed": 707,
     "status": "ok",
     "timestamp": 1582701118555,
     "user": {
      "displayName": "Lorenzo Martinez",
      "photoUrl": "https://lh3.googleusercontent.com/a-/AAuE7mBGGwWQx2hk1xkTXOrbXRL0p9PodRMoEfysllnaMw=s64",
      "userId": "05786548684824227223"
     },
     "user_tz": -60
    },
    "id": "s2kYZV-kQd0G",
    "outputId": "f7727066-2973-4737-8636-89fa922c215a"
   },
   "outputs": [
    {
     "name": "stdout",
     "output_type": "stream",
     "text": [
      "RT @muglikar_: Donald Trump says\n",
      "🚩 Modi stands for religious freedom\n",
      "🚩Domestic violence is internal issue\n",
      "🚩No discussion on CAA\n",
      "\n",
      "This means… 2020-02-26 07:10:17\n",
      "RT @thevirdas: What's just sad is India just made Donald Trump look civilized. 2020-02-26 07:10:16\n",
      "Iranian Foreign Minister Mohammad Javad Zarif said US President Donald Trump confessed Iran's hatred against Daesh… https://t.co/axUplKRZ67 2020-02-26 07:10:15\n",
      "RT @thevirdas: What's just sad is India just made Donald Trump look civilized. 2020-02-26 07:10:15\n",
      "RT @JohnWDean: Attention USA: We have a totally incompetent president and we face a pandemic. Trump has defunded federal pandemic preparati… 2020-02-26 07:10:15\n",
      "RT @ZeeNewsHindi: .@ZeeNews के एडिटर इन चीफ @sudhirchaudhary ऐसे इकलौते पत्रकार हैं जो दुनिया की दो महाशक्तियों के प्रमुखों के साथ एक फ्रेम… 2020-02-26 07:10:14\n",
      "RT @ZeeNewsHindi: .@ZeeNews के एडिटर इन चीफ @sudhirchaudhary ऐसे इकलौते पत्रकार हैं जो दुनिया की दो महाशक्तियों के प्रमुखों के साथ एक फ्रेम… 2020-02-26 07:10:14\n",
      "RT @CMOGuj: Remarks by PM Modi at joint press meet with US President Trump\n",
      "https://t.co/9MdLVCIdPL \n",
      "via NaMo App https://t.co/MbbypZFvYv 2020-02-26 07:10:14\n",
      "@postpolitics Bloomberg's rationale for running: I have enough $ to beat Donald Trump.  But Hillary had double, and she lost. 2020-02-26 07:10:13\n",
      "RT @tburages: .@PeteButtigieg: \"I am not looking forward to a scenario where it comes down to Donald Trump with his nostalgia for the socia… 2020-02-26 07:10:13\n"
     ]
    }
   ],
   "source": [
    "for t in tweets:\n",
    "  print (t.text, t.created_at)"
   ]
  },
  {
   "cell_type": "code",
   "execution_count": 0,
   "metadata": {
    "colab": {},
    "colab_type": "code",
    "id": "f5hsf5lFVJCH"
   },
   "outputs": [],
   "source": [
    "df = extract_tweet_attributes(tweets)"
   ]
  },
  {
   "cell_type": "code",
   "execution_count": 0,
   "metadata": {
    "colab": {
     "base_uri": "https://localhost:8080/",
     "height": 797
    },
    "colab_type": "code",
    "executionInfo": {
     "elapsed": 771,
     "status": "ok",
     "timestamp": 1582701187425,
     "user": {
      "displayName": "Lorenzo Martinez",
      "photoUrl": "https://lh3.googleusercontent.com/a-/AAuE7mBGGwWQx2hk1xkTXOrbXRL0p9PodRMoEfysllnaMw=s64",
      "userId": "05786548684824227223"
     },
     "user_tz": -60
    },
    "id": "DCyUd9tsV33Y",
    "outputId": "949c83db-5cc6-4df9-e18b-1389980ae039"
   },
   "outputs": [
    {
     "data": {
      "text/html": [
       "<div>\n",
       "<style scoped>\n",
       "    .dataframe tbody tr th:only-of-type {\n",
       "        vertical-align: middle;\n",
       "    }\n",
       "\n",
       "    .dataframe tbody tr th {\n",
       "        vertical-align: top;\n",
       "    }\n",
       "\n",
       "    .dataframe thead th {\n",
       "        text-align: right;\n",
       "    }\n",
       "</style>\n",
       "<table border=\"1\" class=\"dataframe\">\n",
       "  <thead>\n",
       "    <tr style=\"text-align: right;\">\n",
       "      <th></th>\n",
       "      <th>tweet_id</th>\n",
       "      <th>text</th>\n",
       "      <th>favorite_count</th>\n",
       "      <th>retweet_count</th>\n",
       "      <th>created_at</th>\n",
       "      <th>source</th>\n",
       "      <th>reply_to_status</th>\n",
       "      <th>reply_to_user</th>\n",
       "      <th>retweets</th>\n",
       "      <th>favorites</th>\n",
       "    </tr>\n",
       "  </thead>\n",
       "  <tbody>\n",
       "    <tr>\n",
       "      <th>0</th>\n",
       "      <td>1232563517322121216</td>\n",
       "      <td>RT @muglikar_: Donald Trump says\\n🚩 Modi stand...</td>\n",
       "      <td>0</td>\n",
       "      <td>412</td>\n",
       "      <td>2020-02-26 07:10:17</td>\n",
       "      <td>Twitter Web App</td>\n",
       "      <td>NaN</td>\n",
       "      <td>None</td>\n",
       "      <td>412</td>\n",
       "      <td>0</td>\n",
       "    </tr>\n",
       "    <tr>\n",
       "      <th>1</th>\n",
       "      <td>1232563513698193411</td>\n",
       "      <td>RT @thevirdas: What's just sad is India just m...</td>\n",
       "      <td>0</td>\n",
       "      <td>68</td>\n",
       "      <td>2020-02-26 07:10:16</td>\n",
       "      <td>Twitter for Android</td>\n",
       "      <td>NaN</td>\n",
       "      <td>None</td>\n",
       "      <td>68</td>\n",
       "      <td>0</td>\n",
       "    </tr>\n",
       "    <tr>\n",
       "      <th>2</th>\n",
       "      <td>1232563510367969281</td>\n",
       "      <td>Iranian Foreign Minister Mohammad Javad Zarif ...</td>\n",
       "      <td>0</td>\n",
       "      <td>0</td>\n",
       "      <td>2020-02-26 07:10:15</td>\n",
       "      <td>Twitter Web App</td>\n",
       "      <td>NaN</td>\n",
       "      <td>None</td>\n",
       "      <td>0</td>\n",
       "      <td>0</td>\n",
       "    </tr>\n",
       "    <tr>\n",
       "      <th>3</th>\n",
       "      <td>1232563509726253056</td>\n",
       "      <td>RT @thevirdas: What's just sad is India just m...</td>\n",
       "      <td>0</td>\n",
       "      <td>68</td>\n",
       "      <td>2020-02-26 07:10:15</td>\n",
       "      <td>Twitter for Android</td>\n",
       "      <td>NaN</td>\n",
       "      <td>None</td>\n",
       "      <td>68</td>\n",
       "      <td>0</td>\n",
       "    </tr>\n",
       "    <tr>\n",
       "      <th>4</th>\n",
       "      <td>1232563508773965826</td>\n",
       "      <td>RT @JohnWDean: Attention USA: We have a totall...</td>\n",
       "      <td>0</td>\n",
       "      <td>470</td>\n",
       "      <td>2020-02-26 07:10:15</td>\n",
       "      <td>Twitter for iPhone</td>\n",
       "      <td>NaN</td>\n",
       "      <td>None</td>\n",
       "      <td>470</td>\n",
       "      <td>0</td>\n",
       "    </tr>\n",
       "    <tr>\n",
       "      <th>5</th>\n",
       "      <td>1232563507549347846</td>\n",
       "      <td>RT @ZeeNewsHindi: .@ZeeNews के एडिटर इन चीफ @s...</td>\n",
       "      <td>0</td>\n",
       "      <td>2052</td>\n",
       "      <td>2020-02-26 07:10:14</td>\n",
       "      <td>Twitter for Android</td>\n",
       "      <td>NaN</td>\n",
       "      <td>None</td>\n",
       "      <td>2052</td>\n",
       "      <td>0</td>\n",
       "    </tr>\n",
       "    <tr>\n",
       "      <th>6</th>\n",
       "      <td>1232563507360452609</td>\n",
       "      <td>RT @ZeeNewsHindi: .@ZeeNews के एडिटर इन चीफ @s...</td>\n",
       "      <td>0</td>\n",
       "      <td>2052</td>\n",
       "      <td>2020-02-26 07:10:14</td>\n",
       "      <td>Twitter for Android</td>\n",
       "      <td>NaN</td>\n",
       "      <td>None</td>\n",
       "      <td>2052</td>\n",
       "      <td>0</td>\n",
       "    </tr>\n",
       "    <tr>\n",
       "      <th>7</th>\n",
       "      <td>1232563504600633344</td>\n",
       "      <td>RT @CMOGuj: Remarks by PM Modi at joint press ...</td>\n",
       "      <td>0</td>\n",
       "      <td>18</td>\n",
       "      <td>2020-02-26 07:10:14</td>\n",
       "      <td>Twitter Web App</td>\n",
       "      <td>NaN</td>\n",
       "      <td>None</td>\n",
       "      <td>18</td>\n",
       "      <td>0</td>\n",
       "    </tr>\n",
       "    <tr>\n",
       "      <th>8</th>\n",
       "      <td>1232563503979888640</td>\n",
       "      <td>@postpolitics Bloomberg's rationale for runnin...</td>\n",
       "      <td>0</td>\n",
       "      <td>0</td>\n",
       "      <td>2020-02-26 07:10:13</td>\n",
       "      <td>Twitter Web App</td>\n",
       "      <td>1.232558e+18</td>\n",
       "      <td>postpolitics</td>\n",
       "      <td>0</td>\n",
       "      <td>0</td>\n",
       "    </tr>\n",
       "    <tr>\n",
       "      <th>9</th>\n",
       "      <td>1232563501585125377</td>\n",
       "      <td>RT @tburages: .@PeteButtigieg: \"I am not looki...</td>\n",
       "      <td>0</td>\n",
       "      <td>57</td>\n",
       "      <td>2020-02-26 07:10:13</td>\n",
       "      <td>Twitter Web App</td>\n",
       "      <td>NaN</td>\n",
       "      <td>None</td>\n",
       "      <td>57</td>\n",
       "      <td>0</td>\n",
       "    </tr>\n",
       "  </tbody>\n",
       "</table>\n",
       "</div>"
      ],
      "text/plain": [
       "              tweet_id  ... favorites\n",
       "0  1232563517322121216  ...         0\n",
       "1  1232563513698193411  ...         0\n",
       "2  1232563510367969281  ...         0\n",
       "3  1232563509726253056  ...         0\n",
       "4  1232563508773965826  ...         0\n",
       "5  1232563507549347846  ...         0\n",
       "6  1232563507360452609  ...         0\n",
       "7  1232563504600633344  ...         0\n",
       "8  1232563503979888640  ...         0\n",
       "9  1232563501585125377  ...         0\n",
       "\n",
       "[10 rows x 10 columns]"
      ]
     },
     "execution_count": 21,
     "metadata": {
      "tags": []
     },
     "output_type": "execute_result"
    }
   ],
   "source": [
    "df"
   ]
  },
  {
   "cell_type": "code",
   "execution_count": 0,
   "metadata": {
    "colab": {},
    "colab_type": "code",
    "id": "wgTOoVJzV4vp"
   },
   "outputs": [],
   "source": []
  }
 ],
 "metadata": {
  "colab": {
   "name": "Twitter Data Extraction.ipynb",
   "provenance": []
  },
  "kernelspec": {
   "display_name": "Python 3 (ipykernel)",
   "language": "python",
   "name": "python3"
  },
  "language_info": {
   "codemirror_mode": {
    "name": "ipython",
    "version": 3
   },
   "file_extension": ".py",
   "mimetype": "text/x-python",
   "name": "python",
   "nbconvert_exporter": "python",
   "pygments_lexer": "ipython3",
   "version": "3.7.11"
  }
 },
 "nbformat": 4,
 "nbformat_minor": 1
}
